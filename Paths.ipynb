{
 "cells": [
  {
   "cell_type": "code",
   "execution_count": null,
   "metadata": {},
   "outputs": [],
   "source": [
    "# Paths"
   ]
  },
  {
   "cell_type": "markdown",
   "metadata": {},
   "source": [
    "Linux provides two ways of traversing the filesystem: absolute and relative paths.  Let's look at absolute paths first."
   ]
  },
  {
   "cell_type": "code",
   "execution_count": 2,
   "metadata": {},
   "outputs": [
    {
     "name": "stdout",
     "output_type": "stream",
     "text": [
      "/\n",
      "bin\n",
      "boot\n",
      "dev\n",
      "dls\n",
      "dls_sw\n",
      "etc\n",
      "home\n",
      "lib\n",
      "lib64\n",
      "localhome\n",
      "lost+found\n",
      "media\n",
      "mnt\n",
      "opt\n",
      "proc\n",
      "root\n",
      "run\n",
      "sbin\n",
      "scratch\n",
      "srv\n",
      "sys\n",
      "tmp\n",
      "usr\n",
      "var\n"
     ]
    }
   ],
   "source": [
    "%%bash\n",
    "cd /\n",
    "ls"
   ]
  },
  {
   "cell_type": "markdown",
   "metadata": {},
   "source": [
    "'/' represents the top (root) of the file system.  'ls' shows all the files and subdirectories in '/'.  You can you absolute paths to locate subdirectories:"
   ]
  },
  {
   "cell_type": "code",
   "execution_count": 4,
   "metadata": {},
   "outputs": [
    {
     "name": "stdout",
     "output_type": "stream",
     "text": [
      "apps\n",
      "b07\n",
      "b07-1\n",
      "b16\n",
      "b18\n",
      "b21\n",
      "b22\n",
      "b23\n",
      "b24\n",
      "b24-1\n",
      "cluster\n",
      "cs-publish\n",
      "dasc\n",
      "detectors\n",
      "e01\n",
      "e02\n",
      "epics\n",
      "etc\n",
      "FPGA\n",
      "i02\n",
      "i02-1\n",
      "i02-2\n",
      "i03\n",
      "i04\n",
      "i04-1\n",
      "i05\n",
      "i05-1\n",
      "i06\n",
      "i06-1\n",
      "i07\n",
      "i08\n",
      "i08-1\n",
      "i09\n",
      "i09-1\n",
      "i09-2\n",
      "i10\n",
      "i10-1\n",
      "i11\n",
      "i11-1\n",
      "i12\n",
      "i13\n",
      "i13-1\n",
      "i14\n",
      "i14-1\n",
      "i15\n",
      "i15-1\n",
      "i16\n",
      "i18\n",
      "i19\n",
      "i19-1\n",
      "i19-2\n",
      "i20\n",
      "i20-1\n",
      "i21\n",
      "i22\n",
      "i23\n",
      "i24\n",
      "k11\n",
      "lab44\n",
      "m01\n",
      "m02\n",
      "m03\n",
      "m04\n",
      "m05\n",
      "m06\n",
      "m07\n",
      "m08\n",
      "m09\n",
      "mx\n",
      "optics\n",
      "p29\n",
      "p38\n",
      "p45\n",
      "p99\n",
      "prod\n",
      "targetOS\n",
      "work\n"
     ]
    }
   ],
   "source": [
    "%%bash\n",
    "cd /dls_sw\n",
    "ls"
   ]
  },
  {
   "cell_type": "markdown",
   "metadata": {},
   "source": [
    "You can also use absolute paths with commands other than 'cd'.  Here is an example with 'ls':"
   ]
  },
  {
   "cell_type": "code",
   "execution_count": 5,
   "metadata": {},
   "outputs": [
    {
     "name": "stdout",
     "output_type": "stream",
     "text": [
      "\u001b[0m\u001b[01;34mapps\u001b[0m/   \u001b[01;34mb24-1\u001b[0m/       \u001b[01;34mFPGA\u001b[0m/   \u001b[01;34mi06\u001b[0m/    \u001b[01;34mi10-1\u001b[0m/  \u001b[01;34mi15-1\u001b[0m/  \u001b[01;34mi22\u001b[0m/    \u001b[01;34mm05\u001b[0m/     \u001b[01;34mp45\u001b[0m/\r\n",
      "\u001b[01;34mb07\u001b[0m/    \u001b[01;34mcluster\u001b[0m/     \u001b[01;34mi02\u001b[0m/    \u001b[01;34mi06-1\u001b[0m/  \u001b[01;34mi11\u001b[0m/    \u001b[01;34mi16\u001b[0m/    \u001b[01;34mi23\u001b[0m/    \u001b[01;34mm06\u001b[0m/     \u001b[01;34mp99\u001b[0m/\r\n",
      "\u001b[01;34mb07-1\u001b[0m/  \u001b[01;34mcs-publish\u001b[0m/  \u001b[01;34mi02-1\u001b[0m/  \u001b[01;34mi07\u001b[0m/    \u001b[01;34mi11-1\u001b[0m/  \u001b[01;34mi18\u001b[0m/    \u001b[01;34mi24\u001b[0m/    \u001b[01;34mm07\u001b[0m/     \u001b[01;34mprod\u001b[0m/\r\n",
      "\u001b[01;34mb16\u001b[0m/    \u001b[01;34mdasc\u001b[0m/        \u001b[01;34mi02-2\u001b[0m/  \u001b[01;34mi08\u001b[0m/    \u001b[01;34mi12\u001b[0m/    \u001b[01;34mi19\u001b[0m/    \u001b[01;34mk11\u001b[0m/    \u001b[01;34mm08\u001b[0m/     \u001b[01;34mtargetOS\u001b[0m/\r\n",
      "\u001b[01;34mb18\u001b[0m/    \u001b[01;34mdetectors\u001b[0m/   \u001b[01;34mi03\u001b[0m/    \u001b[01;34mi08-1\u001b[0m/  \u001b[01;34mi13\u001b[0m/    \u001b[01;34mi19-1\u001b[0m/  \u001b[01;34mlab44\u001b[0m/  \u001b[01;34mm09\u001b[0m/     \u001b[01;34mwork\u001b[0m/\r\n",
      "\u001b[01;34mb21\u001b[0m/    \u001b[01;34me01\u001b[0m/         \u001b[01;34mi04\u001b[0m/    \u001b[01;34mi09\u001b[0m/    \u001b[01;34mi13-1\u001b[0m/  \u001b[01;34mi19-2\u001b[0m/  \u001b[01;34mm01\u001b[0m/    \u001b[01;34mmx\u001b[0m/\r\n",
      "\u001b[01;34mb22\u001b[0m/    \u001b[01;34me02\u001b[0m/         \u001b[01;34mi04-1\u001b[0m/  \u001b[01;34mi09-1\u001b[0m/  \u001b[01;34mi14\u001b[0m/    \u001b[01;34mi20\u001b[0m/    \u001b[01;34mm02\u001b[0m/    \u001b[01;34moptics\u001b[0m/\r\n",
      "\u001b[01;34mb23\u001b[0m/    \u001b[01;34mepics\u001b[0m/       \u001b[01;34mi05\u001b[0m/    \u001b[01;34mi09-2\u001b[0m/  \u001b[01;34mi14-1\u001b[0m/  \u001b[01;34mi20-1\u001b[0m/  \u001b[01;34mm03\u001b[0m/    \u001b[01;34mp29\u001b[0m/\r\n",
      "\u001b[01;34mb24\u001b[0m/    \u001b[01;34metc\u001b[0m/         \u001b[01;34mi05-1\u001b[0m/  \u001b[01;34mi10\u001b[0m/    \u001b[01;34mi15\u001b[0m/    \u001b[01;34mi21\u001b[0m/    \u001b[01;34mm04\u001b[0m/    \u001b[01;34mp38\u001b[0m/\r\n"
     ]
    }
   ],
   "source": [
    "%%bash\n",
    "ls /dls_sw"
   ]
  },
  {
   "cell_type": "markdown",
   "metadata": {},
   "source": [
    "Here is another example:"
   ]
  },
  {
   "cell_type": "code",
   "execution_count": 8,
   "metadata": {},
   "outputs": [
    {
     "name": "stdout",
     "output_type": "stream",
     "text": [
      "bin\n",
      "client\n",
      "clients\n",
      "config\n",
      "justfile\n",
      "server\n",
      "servers\n",
      "workspace\n",
      "workspace_git\n"
     ]
    }
   ],
   "source": [
    "%%bash\n",
    "ls /dls_sw/i22/software/gda"
   ]
  },
  {
   "cell_type": "markdown",
   "metadata": {},
   "source": [
    "The alternative to absolute paths are relative paths.  Absolute paths always begin with a '/' and hence work downwards from the root of the filesystem.  Relative paths do not start with a '/'.  Instead they work relative to the directory you are in a present.  \n",
    "\n",
    "A special version of the 'cd' command takes us to our home directory:"
   ]
  },
  {
   "cell_type": "code",
   "execution_count": 9,
   "metadata": {},
   "outputs": [
    {
     "name": "stdout",
     "output_type": "stream",
     "text": [
      "/home/wns35789\n"
     ]
    }
   ],
   "source": [
    "%%bash\n",
    "cd\n",
    "pwd"
   ]
  },
  {
   "cell_type": "markdown",
   "metadata": {},
   "source": [
    "Lets see what's in our home directory:"
   ]
  },
  {
   "cell_type": "code",
   "execution_count": 12,
   "metadata": {},
   "outputs": [
    {
     "name": "stdout",
     "output_type": "stream",
     "text": [
      "total 5804\n",
      "-rw-rw-r--.  1 wns35789 wns35789       0 Jan 31 19:47 a.txt\n",
      "-rw-rw-r--.  1 wns35789 wns35789       0 Jan 31 19:47 b2.txt\n",
      "drwxrwxr-x.  2 wns35789 wns35789    4096 Sep 29 21:48 bin\n",
      "-rw-rw-r--.  1 wns35789 wns35789 2552258 Oct 12 15:57 cppex.zip\n",
      "-rw-rw-r--.  1 wns35789 wns35789   11349 Dec 13 16:11 dawnlog_2019-11-28.0.html\n",
      "-rw-rw-r--.  1 wns35789 wns35789   11349 Jan 24 12:34 dawnlog_2019-12-13.0.html\n",
      "-rw-rw-r--.  1 wns35789 wns35789    7824 Jan 24 22:00 dawnlog.html\n",
      "drwxrwxr-x.  5 wns35789 wns35789    4096 Nov 19 17:30 DAWN_stable\n",
      "-rw-rw-r--.  1 wns35789 wns35789  315810 Oct 23 14:14 Demos2.zip\n",
      "-rw-rw-r--.  1 wns35789 wns35789  732913 Oct 23 14:14 Demos.zip\n",
      "drwxr-xr-x.  3 wns35789 wns35789    4096 Sep 29 21:54 Desktop\n",
      "-rw-rw-r--.  1 wns35789 wns35789     133 Nov  7 20:05 docs\n",
      "drwxr-xr-x.  2 wns35789 wns35789    4096 Sep 29 21:37 Downloads\n",
      "drwxrwxr-x.  9 wns35789 wns35789    4096 Oct  7 15:59 eclipse-workspace\n",
      "-rw-rw-r--.  1 wns35789 wns35789       0 Jan 31 19:47 f1\n",
      "-rw-rw-r--.  1 wns35789 wns35789       0 Jan 31 19:47 f2\n",
      "-rw-rw-r--.  1 wns35789 wns35789       0 Jan 31 19:47 f3\n",
      "-rw-rw-r--.  1 wns35789 wns35789       0 Jan 31 19:47 f4\n",
      "-rw-rw-r--.  1 wns35789 wns35789       0 Jan 31 19:47 ff\n",
      "-rw-rw-r--.  1 wns35789 wns35789       0 Jan 31 19:47 fff\n",
      "-rw-rw-r--.  1 wns35789 wns35789       0 Jan 31 19:47 file1\n",
      "-rw-rw-r--.  1 wns35789 wns35789       0 Jan 31 19:47 file2\n",
      "drwxr-xr-x.  2 wns35789 wns35789    4096 Oct 22 09:05 fontconfig\n",
      "-rw-rw-r--.  1 wns35789 wns35789       0 Jan 31 19:47 g\n",
      "drwxrwxr-x.  5 wns35789 wns35789    4096 Jan 24 21:48 gda-example-config\n",
      "drwxrwxr-x.  2 wns35789 wns35789    4096 Jan 24 21:27 gda_training\n",
      "-rw-rw-r--.  1 wns35789 wns35789       0 Jan 31 19:47 gh\n",
      "-rw-rw-r--.  1 wns35789 wns35789       0 Jan 31 19:47 giant\n",
      "drwxrwxr-x. 11 wns35789 wns35789    4096 Feb  1 23:00 github\n",
      "-rw-rw-r--.  1 wns35789 wns35789       0 Jan 31 19:47 h\n",
      "drwxrwxr-x.  9 wns35789 wns35789    4096 Jan 31 20:09 LinuxIntro\n",
      "-rw-rw-r--.  1 wns35789 wns35789 1802606 Jan 25 20:02 log_dat.txt\n",
      "-rw-rw-r--.  1 wns35789 wns35789  298358 Jan 25 20:02 log_nxs.txt\n",
      "-rw-rw-r--.  1 wns35789 wns35789   67004 Oct  7 14:33 MODULE_LIST\n",
      "-rw-rw-r--.  1 wns35789 wns35789     666 Nov 19 17:28 mynexus.py\n",
      "drwxrwxr-x.  3 wns35789 wns35789    4096 Jan 30 18:55 notebooks\n",
      "drwxrwxr-x.  2 wns35789 wns35789    4096 Oct  4 11:49 NOTES\n",
      "drwxrwxr-x.  2 wns35789 wns35789    4096 Oct  1 13:58 perl5\n",
      "drwxrwxr-x.  4 wns35789 wns35789    4096 Sep 19 22:02 pretty_printers\n",
      "drwxrwxr-x.  2 wns35789 wns35789    4096 Sep 24 13:10 privatemodules\n",
      "drwxrwxr-x.  2 wns35789 wns35789    4096 Nov 19 16:17 __pycache__\n",
      "drwxrwxr-x.  3 wns35789 wns35789    4096 Oct 13 22:09 PycharmProjects\n",
      "drwxrwxr-x.  3 wns35789 wns35789    4096 Mar  5  2016 Scripts: User\n",
      "drwxrwxr-x.  2 wns35789 wns35789    4096 Jan 24 16:35 seaborn-data\n",
      "drwxrwxr-x.  5 wns35789 wns35789    4096 Nov 20 10:34 workspace\n",
      "-rw-rw-r--.  1 wns35789 wns35789      20 Jan 31 17:15 z\n",
      "-rw-rw-r--.  1 wns35789 wns35789       0 Jan 31 19:47 zebra.txt\n"
     ]
    }
   ],
   "source": [
    "%%bash\n",
    "cd\n",
    "ls -l"
   ]
  },
  {
   "cell_type": "markdown",
   "metadata": {},
   "source": [
    "We see there is a directory 'Desktop'.  To get to this directory we can use a relative path:"
   ]
  },
  {
   "cell_type": "code",
   "execution_count": 13,
   "metadata": {},
   "outputs": [
    {
     "name": "stdout",
     "output_type": "stream",
     "text": [
      "/home/wns35789/Desktop\n"
     ]
    }
   ],
   "source": [
    "%%bash\n",
    "cd\n",
    "cd Desktop\n",
    "pwd"
   ]
  },
  {
   "cell_type": "markdown",
   "metadata": {},
   "source": [
    "Note that jupyter notebook runs each window in a separate environment.  Hence we need to 'cd' to our home directory in each of these examples.  This won't be necessary when we work on the command line, outside of the notebook.  "
   ]
  },
  {
   "cell_type": "markdown",
   "metadata": {},
   "source": [
    "A very useful relative path is '..'.  This takes up one directory:"
   ]
  },
  {
   "cell_type": "code",
   "execution_count": 15,
   "metadata": {},
   "outputs": [
    {
     "name": "stdout",
     "output_type": "stream",
     "text": [
      "/home/wns35789/Desktop\n",
      "/home/wns35789\n"
     ]
    }
   ],
   "source": [
    "%%bash\n",
    "cd \n",
    "cd Desktop\n",
    "pwd\n",
    "cd ..\n",
    "pwd"
   ]
  },
  {
   "cell_type": "markdown",
   "metadata": {},
   "source": [
    "The '..' takes up one directory from the 'Desktop' directory back to our home directory.  Here's another example:"
   ]
  },
  {
   "cell_type": "code",
   "execution_count": 16,
   "metadata": {},
   "outputs": [
    {
     "name": "stdout",
     "output_type": "stream",
     "text": [
      "/dls_sw/i22/software\n"
     ]
    }
   ],
   "source": [
    "%%bash\n",
    "cd /dls_sw/i22/software/gda\n",
    "cd ..\n",
    "pwd"
   ]
  },
  {
   "cell_type": "markdown",
   "metadata": {},
   "source": [
    "Relative paths can be more complicated:"
   ]
  },
  {
   "cell_type": "code",
   "execution_count": 17,
   "metadata": {},
   "outputs": [
    {
     "name": "stdout",
     "output_type": "stream",
     "text": [
      "/dls_sw/i23\n"
     ]
    }
   ],
   "source": [
    "%%bash\n",
    "cd /dls_sw/i22/software/gda\n",
    "cd ../../../i23\n",
    "pwd"
   ]
  },
  {
   "cell_type": "markdown",
   "metadata": {},
   "source": [
    "There is a special symbol (~) for your home directory that can be used with paths:"
   ]
  },
  {
   "cell_type": "code",
   "execution_count": 18,
   "metadata": {},
   "outputs": [
    {
     "name": "stdout",
     "output_type": "stream",
     "text": [
      "/home/wns35789\n",
      "/home/wns35789/Desktop\n"
     ]
    }
   ],
   "source": [
    "%%bash\n",
    "cd ~\n",
    "pwd\n",
    "cd ~/Desktop\n",
    "pwd"
   ]
  },
  {
   "cell_type": "markdown",
   "metadata": {},
   "source": [
    "'~' means home directory."
   ]
  }
 ],
 "metadata": {
  "kernelspec": {
   "display_name": "Python 3.7",
   "language": "python",
   "name": "python3"
  },
  "language_info": {
   "codemirror_mode": {
    "name": "ipython",
    "version": 3
   },
   "file_extension": ".py",
   "mimetype": "text/x-python",
   "name": "python",
   "nbconvert_exporter": "python",
   "pygments_lexer": "ipython3",
   "version": "3.7.3"
  }
 },
 "nbformat": 4,
 "nbformat_minor": 2
}
