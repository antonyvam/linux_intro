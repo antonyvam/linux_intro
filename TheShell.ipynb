{
 "cells": [
  {
   "cell_type": "code",
   "execution_count": 47,
   "metadata": {},
   "outputs": [],
   "source": [
    "# The Shell"
   ]
  },
  {
   "cell_type": "markdown",
   "metadata": {},
   "source": [
    "Let's see what's in our current directory:"
   ]
  },
  {
   "cell_type": "code",
   "execution_count": 53,
   "metadata": {},
   "outputs": [
    {
     "name": "stdout",
     "output_type": "stream",
     "text": [
      "total 436\n",
      "-rw-rw-r--. 1 wns35789 wns35789  31785 Jan 31 23:51 BasicCommands.ipynb\n",
      "-rw-rw-r--. 1 wns35789 wns35789   9235 Feb 12 16:33 Links.ipynb\n",
      "-rw-rw-r--. 1 wns35789 wns35789 297484 Feb  1 23:05 LinuxCommands.ipynb\n",
      "-rw-rw-r--. 1 wns35789 wns35789  13998 Feb 12 15:36 Paths.ipynb\n",
      "-rw-rw-r--. 1 wns35789 wns35789  17308 Jan 31 23:51 Permissions.ipynb\n",
      "-rw-rw-r--. 1 wns35789 wns35789      8 Jan 31 23:49 README.txt\n",
      "drwxrwxr-x. 2 wns35789 wns35789   4096 Feb 12 17:05 shell\n",
      "-rw-rw-r--. 1 wns35789 wns35789   9822 Feb 11 22:42 SpecialPermissions.ipynb\n",
      "-rw-rw-r--. 1 wns35789 wns35789   5352 Feb 12 17:09 TheShell.ipynb\n",
      "-rw-rw-r--. 1 wns35789 wns35789   9110 Feb 12 16:49 Untitled1.ipynb\n",
      "-rw-rw-r--. 1 wns35789 wns35789     72 Feb 12 15:42 Untitled.ipynb\n",
      "-rw-rw-r--. 1 wns35789 wns35789   7663 Jan 31 23:51 Wildcards.ipynb\n",
      "-rwxrwxr-x. 1 wns35789 wns35789    839 Feb  1 22:33 zen2.txt\n",
      "-rwxrwxrwx. 1 wns35789 wns35789    824 Feb  1 21:29 zen.txt\n"
     ]
    }
   ],
   "source": [
    "%%bash\n",
    "ls -l"
   ]
  },
  {
   "cell_type": "markdown",
   "metadata": {},
   "source": [
    "Let's run the same command and pass the output to the word count program 'wc':"
   ]
  },
  {
   "cell_type": "code",
   "execution_count": 54,
   "metadata": {},
   "outputs": [
    {
     "name": "stdout",
     "output_type": "stream",
     "text": [
      "     15     128     941\n"
     ]
    }
   ],
   "source": [
    "%%bash\n",
    "ls -l | wc"
   ]
  },
  {
   "cell_type": "markdown",
   "metadata": {},
   "source": [
    "'wc' says that 'ls -l' created 15 lines, 128 words and 941 characters of output.  The vertical bar (|) is called the pipe symbols and is used to pass the output of one command to the input of another.  \n",
    "Linux is designed such that commands read their input from 'standard input' and write their output to what's called 'standard output\".  These input and output streams are a kind of memory file (the data is never copied to disk).  Standard input is called file descriptor 0 and standard output is called file descriptor 1. "
   ]
  },
  {
   "cell_type": "markdown",
   "metadata": {},
   "source": [
    "Standard input and standard output are often called virtual files.  They are connected to the keyboard and screen by default, but can be connected elsewhere by special shell symbols.\n",
    "\n",
    "Let's investigate these file descriptors:"
   ]
  },
  {
   "cell_type": "code",
   "execution_count": 55,
   "metadata": {},
   "outputs": [],
   "source": [
    "%%bash\n",
    "ls -1 1> log"
   ]
  },
  {
   "cell_type": "markdown",
   "metadata": {},
   "source": [
    "Here we use file descriptor 1 (standard output) to redirect to a disk file called 'log' instead of allowing the output to go to the screen.  You can see this is so by looking at the log file:"
   ]
  },
  {
   "cell_type": "code",
   "execution_count": 56,
   "metadata": {},
   "outputs": [
    {
     "name": "stdout",
     "output_type": "stream",
     "text": [
      "BasicCommands.ipynb\n",
      "Links.ipynb\n",
      "LinuxCommands.ipynb\n",
      "log\n",
      "Paths.ipynb\n",
      "Permissions.ipynb\n",
      "README.txt\n",
      "shell\n",
      "SpecialPermissions.ipynb\n",
      "TheShell.ipynb\n",
      "Untitled1.ipynb\n",
      "Untitled.ipynb\n",
      "Wildcards.ipynb\n",
      "zen2.txt\n",
      "zen.txt\n"
     ]
    }
   ],
   "source": [
    "%%bash\n",
    "cat log"
   ]
  },
  {
   "cell_type": "markdown",
   "metadata": {},
   "source": [
    "File descriptor 1 is the default for output, so we could equally write:"
   ]
  },
  {
   "cell_type": "code",
   "execution_count": 57,
   "metadata": {},
   "outputs": [
    {
     "name": "stdout",
     "output_type": "stream",
     "text": [
      "BasicCommands.ipynb\n",
      "Links.ipynb\n",
      "LinuxCommands.ipynb\n",
      "log\n",
      "Paths.ipynb\n",
      "Permissions.ipynb\n",
      "README.txt\n",
      "shell\n",
      "SpecialPermissions.ipynb\n",
      "TheShell.ipynb\n",
      "Untitled1.ipynb\n",
      "Untitled.ipynb\n",
      "Wildcards.ipynb\n",
      "zen2.txt\n",
      "zen.txt\n"
     ]
    }
   ],
   "source": [
    "%%bash\n",
    "ls -l > log2\n",
    "cat log"
   ]
  },
  {
   "cell_type": "markdown",
   "metadata": {},
   "source": [
    "Things get more interesting when a command generates errors:"
   ]
  },
  {
   "cell_type": "code",
   "execution_count": 58,
   "metadata": {},
   "outputs": [
    {
     "name": "stdout",
     "output_type": "stream",
     "text": [
      "ls: cannot access *.unknown: No such file or directory\r\n",
      "BasicCommands.ipynb  Paths.ipynb               TheShell.ipynb   Wildcards.ipynb\r\n",
      "Links.ipynb          Permissions.ipynb         Untitled1.ipynb\r\n",
      "LinuxCommands.ipynb  SpecialPermissions.ipynb  Untitled.ipynb\r\n"
     ]
    }
   ],
   "source": [
    "ls *.ipynb *.unknown"
   ]
  },
  {
   "cell_type": "markdown",
   "metadata": {},
   "source": [
    "Errors are sent to file descriptor 2, the standard error.  Above, we let standard output and standard error go to the screen, but we could redirect them to files:"
   ]
  },
  {
   "cell_type": "code",
   "execution_count": 26,
   "metadata": {},
   "outputs": [],
   "source": [
    "ls *.ipynb *.unknown 1>log 2>errlog"
   ]
  },
  {
   "cell_type": "markdown",
   "metadata": {},
   "source": [
    "Let's look at standard output:"
   ]
  },
  {
   "cell_type": "code",
   "execution_count": 27,
   "metadata": {},
   "outputs": [
    {
     "name": "stdout",
     "output_type": "stream",
     "text": [
      "BasicCommands.ipynb\n",
      "Links.ipynb\n",
      "LinuxCommands.ipynb\n",
      "Paths.ipynb\n",
      "Permissions.ipynb\n",
      "SpecialPermissions.ipynb\n",
      "TheShell.ipynb\n",
      "Untitled1.ipynb\n",
      "Untitled.ipynb\n",
      "Wildcards.ipynb\n"
     ]
    }
   ],
   "source": [
    "%%bash\n",
    "cat log"
   ]
  },
  {
   "cell_type": "markdown",
   "metadata": {},
   "source": [
    "And now let's look at standard error:"
   ]
  },
  {
   "cell_type": "code",
   "execution_count": 28,
   "metadata": {},
   "outputs": [
    {
     "name": "stdout",
     "output_type": "stream",
     "text": [
      "ls: cannot access *.unknown: No such file or directory\n"
     ]
    }
   ],
   "source": [
    "%%bash\n",
    "cat errlog"
   ]
  },
  {
   "cell_type": "markdown",
   "metadata": {},
   "source": [
    "Sometimes we want standard output and error to go to the same file:"
   ]
  },
  {
   "cell_type": "code",
   "execution_count": 41,
   "metadata": {},
   "outputs": [],
   "source": [
    "ls *.ipynb *.unknown 1>combinedlog 2>&1"
   ]
  },
  {
   "cell_type": "code",
   "execution_count": 42,
   "metadata": {},
   "outputs": [
    {
     "name": "stdout",
     "output_type": "stream",
     "text": [
      "ls: cannot access *.unknown: No such file or directory\n",
      "BasicCommands.ipynb\n",
      "Links.ipynb\n",
      "LinuxCommands.ipynb\n",
      "Paths.ipynb\n",
      "Permissions.ipynb\n",
      "SpecialPermissions.ipynb\n",
      "TheShell.ipynb\n",
      "Untitled1.ipynb\n",
      "Untitled.ipynb\n",
      "Wildcards.ipynb\n"
     ]
    }
   ],
   "source": [
    "%%bash\n",
    "cat combinedlog"
   ]
  },
  {
   "cell_type": "markdown",
   "metadata": {},
   "source": [
    "Pipes work in a similar way.  We can pass standard output and standard error to a pipe using the following rather strange notation 2>&1 (2 is sent to the same place as 1):"
   ]
  },
  {
   "cell_type": "code",
   "execution_count": 59,
   "metadata": {},
   "outputs": [
    {
     "name": "stdout",
     "output_type": "stream",
     "text": [
      "     10      10     169\n"
     ]
    }
   ],
   "source": [
    "%%bash\n",
    "ls *.ipynb  2>&1 | wc"
   ]
  },
  {
   "cell_type": "markdown",
   "metadata": {},
   "source": [
    "'ls' is not producing any errors in this case.  But modify the command a little and we get:"
   ]
  },
  {
   "cell_type": "code",
   "execution_count": 60,
   "metadata": {},
   "outputs": [
    {
     "name": "stdout",
     "output_type": "stream",
     "text": [
      "     11      19     224\n"
     ]
    }
   ],
   "source": [
    "%%bash\n",
    "ls *.ipynb *.unknown 2>&1 | wc"
   ]
  },
  {
   "cell_type": "markdown",
   "metadata": {},
   "source": [
    "Now there is an extra line corresponding to the error caused by '*.unknown'.  We can look inside the pipeline with the 'tee'command.  'tee' tees off the intermediate output to another file ('tlog'): "
   ]
  },
  {
   "cell_type": "code",
   "execution_count": 45,
   "metadata": {},
   "outputs": [
    {
     "name": "stdout",
     "output_type": "stream",
     "text": [
      "     11      19     224\n"
     ]
    }
   ],
   "source": [
    "%%bash\n",
    "ls *.ipynb *.unknown 2>&1 | tee tlog | wc"
   ]
  },
  {
   "cell_type": "code",
   "execution_count": 46,
   "metadata": {},
   "outputs": [
    {
     "name": "stdout",
     "output_type": "stream",
     "text": [
      "ls: cannot access *.unknown: No such file or directory\n",
      "BasicCommands.ipynb\n",
      "Links.ipynb\n",
      "LinuxCommands.ipynb\n",
      "Paths.ipynb\n",
      "Permissions.ipynb\n",
      "SpecialPermissions.ipynb\n",
      "TheShell.ipynb\n",
      "Untitled1.ipynb\n",
      "Untitled.ipynb\n",
      "Wildcards.ipynb\n"
     ]
    }
   ],
   "source": [
    "%%bash\n",
    "cat tlog"
   ]
  },
  {
   "cell_type": "markdown",
   "metadata": {},
   "source": [
    "Well that completes this tutorial.  Let's clean up:"
   ]
  },
  {
   "cell_type": "code",
   "execution_count": 61,
   "metadata": {},
   "outputs": [],
   "source": [
    "rm *log*"
   ]
  },
  {
   "cell_type": "code",
   "execution_count": null,
   "metadata": {},
   "outputs": [],
   "source": []
  }
 ],
 "metadata": {
  "kernelspec": {
   "display_name": "Python 3.7",
   "language": "python",
   "name": "python3"
  },
  "language_info": {
   "codemirror_mode": {
    "name": "ipython",
    "version": 3
   },
   "file_extension": ".py",
   "mimetype": "text/x-python",
   "name": "python",
   "nbconvert_exporter": "python",
   "pygments_lexer": "ipython3",
   "version": "3.7.3"
  }
 },
 "nbformat": 4,
 "nbformat_minor": 2
}
