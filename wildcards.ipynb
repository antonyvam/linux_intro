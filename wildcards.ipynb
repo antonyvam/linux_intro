{
 "cells": [
  {
   "cell_type": "markdown",
   "metadata": {},
   "source": [
    "# Shell Wildcards"
   ]
  },
  {
   "cell_type": "markdown",
   "metadata": {},
   "source": [
    "The Linux shell allows you to use wildcards in commands.  The *bash* shell defines several wildcards, but most of these are not used in practice; usually only the \\'*\\' and \\'?\\' wildcards are used.  \n",
    "\n",
    "We can illustrate common use of these wildcards using the *ls* command (see below).  \n",
    "We begin by creating a *play* directory to contain our work."
   ]
  },
  {
   "cell_type": "code",
   "execution_count": 11,
   "metadata": {},
   "outputs": [
    {
     "name": "stdout",
     "output_type": "stream",
     "text": [
      "/home/wns35789\n"
     ]
    }
   ],
   "source": [
    "%cd"
   ]
  },
  {
   "cell_type": "code",
   "execution_count": 12,
   "metadata": {
    "scrolled": true
   },
   "outputs": [],
   "source": [
    "%%bash\n",
    "mkdir play"
   ]
  },
  {
   "cell_type": "code",
   "execution_count": 13,
   "metadata": {},
   "outputs": [
    {
     "name": "stdout",
     "output_type": "stream",
     "text": [
      "/home/wns35789/play\n"
     ]
    }
   ],
   "source": [
    "%cd play"
   ]
  },
  {
   "cell_type": "markdown",
   "metadata": {},
   "source": [
    "Since we are only interested in wildcards, we can work with empty files; we will use the touch command to create a set of files to play with."
   ]
  },
  {
   "cell_type": "code",
   "execution_count": 14,
   "metadata": {},
   "outputs": [
    {
     "name": "stdout",
     "output_type": "stream",
     "text": [
      "total 0\n",
      "-rw-rw-r--. 1 wns35789 wns35789 0 Jan 31 20:07 a.txt\n",
      "-rw-rw-r--. 1 wns35789 wns35789 0 Jan 31 20:07 b2.txt\n",
      "-rw-rw-r--. 1 wns35789 wns35789 0 Jan 31 20:07 f1\n",
      "-rw-rw-r--. 1 wns35789 wns35789 0 Jan 31 20:07 f2\n",
      "-rw-rw-r--. 1 wns35789 wns35789 0 Jan 31 20:07 f3\n",
      "-rw-rw-r--. 1 wns35789 wns35789 0 Jan 31 20:07 f4\n",
      "-rw-rw-r--. 1 wns35789 wns35789 0 Jan 31 20:07 ff\n",
      "-rw-rw-r--. 1 wns35789 wns35789 0 Jan 31 20:07 fff\n",
      "-rw-rw-r--. 1 wns35789 wns35789 0 Jan 31 20:07 file1\n",
      "-rw-rw-r--. 1 wns35789 wns35789 0 Jan 31 20:07 file2\n",
      "-rw-rw-r--. 1 wns35789 wns35789 0 Jan 31 20:07 g\n",
      "-rw-rw-r--. 1 wns35789 wns35789 0 Jan 31 20:07 gh\n",
      "-rw-rw-r--. 1 wns35789 wns35789 0 Jan 31 20:07 giant\n",
      "-rw-rw-r--. 1 wns35789 wns35789 0 Jan 31 20:07 h\n",
      "-rw-rw-r--. 1 wns35789 wns35789 0 Jan 31 20:07 zebra.txt\n"
     ]
    }
   ],
   "source": [
    "%%bash\n",
    "touch f1 f2 f3 f4 ff fff g h gh giant file1 file2 a.txt b2.txt zebra.txt\n",
    "ls -l"
   ]
  },
  {
   "cell_type": "markdown",
   "metadata": {},
   "source": [
    "Our first example uses '*' to display all files beginning with a 'g' followed by arbitrary characters:"
   ]
  },
  {
   "cell_type": "code",
   "execution_count": 15,
   "metadata": {},
   "outputs": [
    {
     "name": "stdout",
     "output_type": "stream",
     "text": [
      "-rw-rw-r--. 1 wns35789 wns35789 0 Jan 31 20:07 g\n",
      "-rw-rw-r--. 1 wns35789 wns35789 0 Jan 31 20:07 gh\n",
      "-rw-rw-r--. 1 wns35789 wns35789 0 Jan 31 20:07 giant\n"
     ]
    }
   ],
   "source": [
    "%%bash\n",
    "ls -l g*"
   ]
  },
  {
   "cell_type": "markdown",
   "metadata": {},
   "source": [
    "Next we look at all files beginning with an 'f':"
   ]
  },
  {
   "cell_type": "code",
   "execution_count": 16,
   "metadata": {},
   "outputs": [
    {
     "name": "stdout",
     "output_type": "stream",
     "text": [
      "/home/wns35789/play\n",
      "-rw-rw-r--. 1 wns35789 wns35789 0 Jan 31 20:07 f1\n",
      "-rw-rw-r--. 1 wns35789 wns35789 0 Jan 31 20:07 f2\n",
      "-rw-rw-r--. 1 wns35789 wns35789 0 Jan 31 20:07 f3\n",
      "-rw-rw-r--. 1 wns35789 wns35789 0 Jan 31 20:07 f4\n",
      "-rw-rw-r--. 1 wns35789 wns35789 0 Jan 31 20:07 ff\n",
      "-rw-rw-r--. 1 wns35789 wns35789 0 Jan 31 20:07 fff\n",
      "-rw-rw-r--. 1 wns35789 wns35789 0 Jan 31 20:07 file1\n",
      "-rw-rw-r--. 1 wns35789 wns35789 0 Jan 31 20:07 file2\n"
     ]
    }
   ],
   "source": [
    "%%bash\n",
    "pwd\n",
    "ls -l f*"
   ]
  },
  {
   "cell_type": "code",
   "execution_count": 17,
   "metadata": {},
   "outputs": [
    {
     "name": "stdout",
     "output_type": "stream",
     "text": [
      "-rw-rw-r--. 1 wns35789 wns35789 0 Jan 31 20:07 f1\n",
      "-rw-rw-r--. 1 wns35789 wns35789 0 Jan 31 20:07 f2\n",
      "-rw-rw-r--. 1 wns35789 wns35789 0 Jan 31 20:07 f3\n",
      "-rw-rw-r--. 1 wns35789 wns35789 0 Jan 31 20:07 f4\n",
      "-rw-rw-r--. 1 wns35789 wns35789 0 Jan 31 20:07 ff\n"
     ]
    }
   ],
   "source": [
    "%%bash\n",
    "ls -l f?"
   ]
  },
  {
   "cell_type": "markdown",
   "metadata": {},
   "source": [
    "Two ?? matches al two letter filenames:"
   ]
  },
  {
   "cell_type": "code",
   "execution_count": 18,
   "metadata": {},
   "outputs": [
    {
     "name": "stdout",
     "output_type": "stream",
     "text": [
      "-rw-rw-r--. 1 wns35789 wns35789 0 Jan 31 20:07 f1\n",
      "-rw-rw-r--. 1 wns35789 wns35789 0 Jan 31 20:07 f2\n",
      "-rw-rw-r--. 1 wns35789 wns35789 0 Jan 31 20:07 f3\n",
      "-rw-rw-r--. 1 wns35789 wns35789 0 Jan 31 20:07 f4\n",
      "-rw-rw-r--. 1 wns35789 wns35789 0 Jan 31 20:07 ff\n",
      "-rw-rw-r--. 1 wns35789 wns35789 0 Jan 31 20:07 gh\n"
     ]
    }
   ],
   "source": [
    "%%bash\n",
    "ls -l ??"
   ]
  },
  {
   "cell_type": "markdown",
   "metadata": {},
   "source": [
    "Finally, the '*' on its own matches all filenames:"
   ]
  },
  {
   "cell_type": "code",
   "execution_count": 19,
   "metadata": {},
   "outputs": [
    {
     "name": "stdout",
     "output_type": "stream",
     "text": [
      "-rw-rw-r--. 1 wns35789 wns35789 0 Jan 31 20:07 a.txt\n",
      "-rw-rw-r--. 1 wns35789 wns35789 0 Jan 31 20:07 b2.txt\n",
      "-rw-rw-r--. 1 wns35789 wns35789 0 Jan 31 20:07 f1\n",
      "-rw-rw-r--. 1 wns35789 wns35789 0 Jan 31 20:07 f2\n",
      "-rw-rw-r--. 1 wns35789 wns35789 0 Jan 31 20:07 f3\n",
      "-rw-rw-r--. 1 wns35789 wns35789 0 Jan 31 20:07 f4\n",
      "-rw-rw-r--. 1 wns35789 wns35789 0 Jan 31 20:07 ff\n",
      "-rw-rw-r--. 1 wns35789 wns35789 0 Jan 31 20:07 fff\n",
      "-rw-rw-r--. 1 wns35789 wns35789 0 Jan 31 20:07 file1\n",
      "-rw-rw-r--. 1 wns35789 wns35789 0 Jan 31 20:07 file2\n",
      "-rw-rw-r--. 1 wns35789 wns35789 0 Jan 31 20:07 g\n",
      "-rw-rw-r--. 1 wns35789 wns35789 0 Jan 31 20:07 gh\n",
      "-rw-rw-r--. 1 wns35789 wns35789 0 Jan 31 20:07 giant\n",
      "-rw-rw-r--. 1 wns35789 wns35789 0 Jan 31 20:07 h\n",
      "-rw-rw-r--. 1 wns35789 wns35789 0 Jan 31 20:07 zebra.txt\n"
     ]
    }
   ],
   "source": [
    "%%bash\n",
    "ls -l *"
   ]
  },
  {
   "cell_type": "markdown",
   "metadata": {},
   "source": [
    "Finally we can clean up the files created in this tutorial."
   ]
  },
  {
   "cell_type": "code",
   "execution_count": 20,
   "metadata": {},
   "outputs": [],
   "source": [
    "%%bash\n",
    "rm -r ~/play"
   ]
  },
  {
   "cell_type": "code",
   "execution_count": null,
   "metadata": {},
   "outputs": [],
   "source": []
  }
 ],
 "metadata": {
  "kernelspec": {
   "display_name": "Python 3.7",
   "language": "python",
   "name": "python3"
  },
  "language_info": {
   "codemirror_mode": {
    "name": "ipython",
    "version": 3
   },
   "file_extension": ".py",
   "mimetype": "text/x-python",
   "name": "python",
   "nbconvert_exporter": "python",
   "pygments_lexer": "ipython3",
   "version": "3.7.3"
  }
 },
 "nbformat": 4,
 "nbformat_minor": 2
}
