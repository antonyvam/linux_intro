{
 "cells": [
  {
   "cell_type": "markdown",
   "metadata": {},
   "source": [
    "# Basic Linux Commands"
   ]
  },
  {
   "cell_type": "markdown",
   "metadata": {},
   "source": [
    "In this tutorial we will look at some basic Linux commands:\n",
    "ls pwd cd mkdir mv cp rm"
   ]
  },
  {
   "cell_type": "markdown",
   "metadata": {},
   "source": [
    "## ls\n",
    "After logging in, you will want to find out what files exist in your home directory using the 'ls' command:"
   ]
  },
  {
   "cell_type": "code",
   "execution_count": 1,
   "metadata": {},
   "outputs": [
    {
     "name": "stdout",
     "output_type": "stream",
     "text": [
      "BasicCommands.ipynb  README.txt                Untitled.ipynb\r\n",
      "custom.css           \u001b[0m\u001b[01;32msetup\u001b[0m*                    Wildcards.ipynb\r\n",
      "Links.ipynb          \u001b[01;34mshell\u001b[0m/                    \u001b[01;32mzen2.txt\u001b[0m*\r\n",
      "LinuxCommands.ipynb  SpecialPermissions.ipynb  \u001b[01;32mzen.txt\u001b[0m*\r\n",
      "Paths.ipynb          TheShell.ipynb\r\n",
      "Permissions.ipynb    Untitled1.ipynb\r\n"
     ]
    }
   ],
   "source": [
    "ls"
   ]
  },
  {
   "cell_type": "markdown",
   "metadata": {},
   "source": [
    "To get more information, ls has a number of options.  The -l option gives a 'long' listing:"
   ]
  },
  {
   "cell_type": "code",
   "execution_count": 2,
   "metadata": {},
   "outputs": [
    {
     "name": "stdout",
     "output_type": "stream",
     "text": [
      "total 420\r\n",
      "-rw-rw-r--. 1 wns35789 wns35789   7998 Feb 12 20:20 BasicCommands.ipynb\r\n",
      "-rw-rw-r--. 1 wns35789 wns35789    132 Feb 12 19:43 custom.css\r\n",
      "-rw-rw-r--. 1 wns35789 wns35789   9235 Feb 12 16:33 Links.ipynb\r\n",
      "-rw-rw-r--. 1 wns35789 wns35789 297484 Feb  1 23:05 LinuxCommands.ipynb\r\n",
      "-rw-rw-r--. 1 wns35789 wns35789  13998 Feb 12 15:36 Paths.ipynb\r\n",
      "-rw-rw-r--. 1 wns35789 wns35789  17308 Jan 31 23:51 Permissions.ipynb\r\n",
      "-rw-rw-r--. 1 wns35789 wns35789      8 Jan 31 23:49 README.txt\r\n",
      "-rwxrwxr-x. 1 wns35789 wns35789     97 Feb 12 20:17 \u001b[0m\u001b[01;32msetup\u001b[0m*\r\n",
      "drwxrwxr-x. 2 wns35789 wns35789   4096 Feb 12 17:05 \u001b[01;34mshell\u001b[0m/\r\n",
      "-rw-rw-r--. 1 wns35789 wns35789   9822 Feb 11 22:42 SpecialPermissions.ipynb\r\n",
      "-rw-rw-r--. 1 wns35789 wns35789  10838 Feb 12 17:37 TheShell.ipynb\r\n",
      "-rw-rw-r--. 1 wns35789 wns35789   9110 Feb 12 16:49 Untitled1.ipynb\r\n",
      "-rw-rw-r--. 1 wns35789 wns35789     72 Feb 12 15:42 Untitled.ipynb\r\n",
      "-rw-rw-r--. 1 wns35789 wns35789   7663 Jan 31 23:51 Wildcards.ipynb\r\n",
      "-rwxrwxr-x. 1 wns35789 wns35789    839 Feb  1 22:33 \u001b[01;32mzen2.txt\u001b[0m*\r\n",
      "-rwxrwxrwx. 1 wns35789 wns35789    824 Feb  1 21:29 \u001b[01;32mzen.txt\u001b[0m*\r\n"
     ]
    }
   ],
   "source": [
    "ls -l"
   ]
  },
  {
   "cell_type": "markdown",
   "metadata": {},
   "source": [
    "Notice the file permissions at the start of each line.  If the permissions start with a '-' this indicates a regular file.  If they start with a 'd' then this is a directory.  Other file types exist.\n",
    "Linux has a convention that 'hidden' files begin with a '.'.  Hidden files are used for admin purposes and are normally not shown.  However, you can see these files using the '-a' option:"
   ]
  },
  {
   "cell_type": "code",
   "execution_count": 3,
   "metadata": {},
   "outputs": [
    {
     "name": "stdout",
     "output_type": "stream",
     "text": [
      "total 436\r\n",
      "drwxrwxr-x.  5 wns35789 wns35789   4096 Feb 12 20:20 \u001b[0m\u001b[01;34m.\u001b[0m/\r\n",
      "drwxrwxr-x. 11 wns35789 wns35789   4096 Feb  1 23:00 \u001b[01;34m..\u001b[0m/\r\n",
      "-rw-rw-r--.  1 wns35789 wns35789   7998 Feb 12 20:20 BasicCommands.ipynb\r\n",
      "-rw-rw-r--.  1 wns35789 wns35789    132 Feb 12 19:43 custom.css\r\n",
      "drwxrwxr-x.  7 wns35789 wns35789   4096 Feb 12 19:43 \u001b[01;34m.git\u001b[0m/\r\n",
      "-rw-rw-r--.  1 wns35789 wns35789     34 Feb  1 21:28 .gitignore\r\n",
      "drwxrwxr-x.  2 wns35789 wns35789   4096 Feb 12 19:46 \u001b[01;34m.ipynb_checkpoints\u001b[0m/\r\n",
      "-rw-rw-r--.  1 wns35789 wns35789   9235 Feb 12 16:33 Links.ipynb\r\n",
      "-rw-rw-r--.  1 wns35789 wns35789 297484 Feb  1 23:05 LinuxCommands.ipynb\r\n",
      "-rw-rw-r--.  1 wns35789 wns35789  13998 Feb 12 15:36 Paths.ipynb\r\n",
      "-rw-rw-r--.  1 wns35789 wns35789  17308 Jan 31 23:51 Permissions.ipynb\r\n",
      "-rw-rw-r--.  1 wns35789 wns35789      8 Jan 31 23:49 README.txt\r\n",
      "-rwxrwxr-x.  1 wns35789 wns35789     97 Feb 12 20:17 \u001b[01;32msetup\u001b[0m*\r\n",
      "drwxrwxr-x.  2 wns35789 wns35789   4096 Feb 12 17:05 \u001b[01;34mshell\u001b[0m/\r\n",
      "-rw-rw-r--.  1 wns35789 wns35789   9822 Feb 11 22:42 SpecialPermissions.ipynb\r\n",
      "-rw-rw-r--.  1 wns35789 wns35789  10838 Feb 12 17:37 TheShell.ipynb\r\n",
      "-rw-rw-r--.  1 wns35789 wns35789   9110 Feb 12 16:49 Untitled1.ipynb\r\n",
      "-rw-rw-r--.  1 wns35789 wns35789     72 Feb 12 15:42 Untitled.ipynb\r\n",
      "-rw-rw-r--.  1 wns35789 wns35789   7663 Jan 31 23:51 Wildcards.ipynb\r\n",
      "-rwxrwxr-x.  1 wns35789 wns35789    839 Feb  1 22:33 \u001b[01;32mzen2.txt\u001b[0m*\r\n",
      "-rwxrwxrwx.  1 wns35789 wns35789    824 Feb  1 21:29 \u001b[01;32mzen.txt\u001b[0m*\r\n"
     ]
    }
   ],
   "source": [
    "ls -al"
   ]
  },
  {
   "cell_type": "markdown",
   "metadata": {},
   "source": [
    "The '.' and '..' directory files are special and refer to the current directory and its parent directory respectively."
   ]
  },
  {
   "cell_type": "markdown",
   "metadata": {},
   "source": [
    "## pwd\n",
    "To see where you are in the directory hierarchy use the 'pwd' command.  This stands for 'Print Working Directory':"
   ]
  },
  {
   "cell_type": "code",
   "execution_count": 4,
   "metadata": {},
   "outputs": [
    {
     "data": {
      "text/plain": [
       "'/home/wns35789/github/linux_intro'"
      ]
     },
     "execution_count": 4,
     "metadata": {},
     "output_type": "execute_result"
    }
   ],
   "source": [
    "pwd"
   ]
  },
  {
   "cell_type": "markdown",
   "metadata": {},
   "source": [
    "You are probably in your home directory.  This is a subdirectory of the '/home' directory indicated by your Fed-Id.  You can always move to your home directory with the 'cd' command:\n"
   ]
  },
  {
   "cell_type": "code",
   "execution_count": 5,
   "metadata": {},
   "outputs": [
    {
     "name": "stdout",
     "output_type": "stream",
     "text": [
      "/home/wns35789\n"
     ]
    }
   ],
   "source": [
    "cd"
   ]
  },
  {
   "cell_type": "markdown",
   "metadata": {},
   "source": [
    "You can create other directories under your home directory.  To create a new directory:"
   ]
  },
  {
   "cell_type": "code",
   "execution_count": 6,
   "metadata": {},
   "outputs": [],
   "source": [
    "## mkdir\n",
    "!mkdir basic"
   ]
  },
  {
   "cell_type": "markdown",
   "metadata": {},
   "source": [
    "and to access this directory:"
   ]
  },
  {
   "cell_type": "code",
   "execution_count": 7,
   "metadata": {},
   "outputs": [
    {
     "name": "stdout",
     "output_type": "stream",
     "text": [
      "/home/wns35789/basic\n"
     ]
    }
   ],
   "source": [
    "cd basic"
   ]
  },
  {
   "cell_type": "markdown",
   "metadata": {},
   "source": [
    "You can now create files in this directory.  You would normally do this using an editor like 'vim'.  However for this tutorial we will take a shortcut and create file using the 'echo' command.  This will only allow us to create files with limited content, so it is not recommended for normal use, but will suffice here.\n",
    "Note that you must NOT type the ! on the command line.  It is only necessary here because of restrictions imposed by the Jupyter notebook."
   ]
  },
  {
   "cell_type": "code",
   "execution_count": 8,
   "metadata": {},
   "outputs": [
    {
     "name": "stdout",
     "output_type": "stream",
     "text": [
      "total 0\r\n",
      "-rw-rw-r--. 1 wns35789 wns35789 22 Feb 12 20:20 file1\r\n",
      "-rw-rw-r--. 1 wns35789 wns35789 21 Feb 12 20:20 file2\r\n"
     ]
    }
   ],
   "source": [
    "!echo \"This is my first file\" > file1\n",
    "!echo \"This is another file\" > file2\n",
    "!ls -l"
   ]
  },
  {
   "cell_type": "markdown",
   "metadata": {},
   "source": [
    "## cat\n",
    "To see the contents of these files, use 'cat':"
   ]
  },
  {
   "cell_type": "code",
   "execution_count": 9,
   "metadata": {},
   "outputs": [
    {
     "name": "stdout",
     "output_type": "stream",
     "text": [
      "This is my first file\r\n"
     ]
    }
   ],
   "source": [
    "cat file1"
   ]
  },
  {
   "cell_type": "code",
   "execution_count": 10,
   "metadata": {},
   "outputs": [
    {
     "name": "stdout",
     "output_type": "stream",
     "text": [
      "This is another file\r\n"
     ]
    }
   ],
   "source": [
    "cat file2"
   ]
  },
  {
   "cell_type": "markdown",
   "metadata": {},
   "source": [
    "## mv\n",
    "To rename a file use 'mv':"
   ]
  },
  {
   "cell_type": "code",
   "execution_count": 11,
   "metadata": {},
   "outputs": [
    {
     "name": "stdout",
     "output_type": "stream",
     "text": [
      "total 0\r\n",
      "-rw-rw-r--. 1 wns35789 wns35789 22 Feb 12 20:20 another_file\r\n",
      "-rw-rw-r--. 1 wns35789 wns35789 21 Feb 12 20:20 file2\r\n"
     ]
    }
   ],
   "source": [
    "!mv file1 another_file\n",
    "!ls -l"
   ]
  },
  {
   "cell_type": "markdown",
   "metadata": {},
   "source": [
    "## cp\n",
    "To copy a file use the 'cp' command:"
   ]
  },
  {
   "cell_type": "code",
   "execution_count": 12,
   "metadata": {},
   "outputs": [
    {
     "name": "stdout",
     "output_type": "stream",
     "text": [
      "total 0\r\n",
      "-rw-rw-r--. 1 wns35789 wns35789 22 Feb 12 20:20 another_file\r\n",
      "-rw-rw-r--. 1 wns35789 wns35789 21 Feb 12 20:20 file2\r\n",
      "-rw-rw-r--. 1 wns35789 wns35789 21 Feb 12 20:20 file3\r\n"
     ]
    }
   ],
   "source": [
    "!cp file2 file3\n",
    "!ls -l"
   ]
  },
  {
   "cell_type": "markdown",
   "metadata": {},
   "source": [
    "## rm\n",
    "To delete a file use 'rm':"
   ]
  },
  {
   "cell_type": "code",
   "execution_count": 13,
   "metadata": {},
   "outputs": [
    {
     "name": "stdout",
     "output_type": "stream",
     "text": [
      "total 0\r\n",
      "-rw-rw-r--. 1 wns35789 wns35789 22 Feb 12 20:20 another_file\r\n",
      "-rw-rw-r--. 1 wns35789 wns35789 21 Feb 12 20:20 file3\r\n"
     ]
    }
   ],
   "source": [
    "!rm file2\n",
    "!ls -l"
   ]
  },
  {
   "cell_type": "markdown",
   "metadata": {},
   "source": [
    "## cd\n",
    "The 'cd' command allows you to navigate the filesystem:"
   ]
  },
  {
   "cell_type": "code",
   "execution_count": 14,
   "metadata": {},
   "outputs": [
    {
     "name": "stdout",
     "output_type": "stream",
     "text": [
      "/home/wns35789\n"
     ]
    }
   ],
   "source": [
    "cd .."
   ]
  },
  {
   "cell_type": "markdown",
   "metadata": {},
   "source": [
    "'..' takes you up one directory"
   ]
  },
  {
   "cell_type": "code",
   "execution_count": 15,
   "metadata": {},
   "outputs": [
    {
     "name": "stdout",
     "output_type": "stream",
     "text": [
      "/\n"
     ]
    }
   ],
   "source": [
    "cd /"
   ]
  },
  {
   "cell_type": "markdown",
   "metadata": {},
   "source": [
    "This takes you to the top of the filesystem, often refered to as 'root'."
   ]
  },
  {
   "cell_type": "code",
   "execution_count": 16,
   "metadata": {},
   "outputs": [
    {
     "name": "stdout",
     "output_type": "stream",
     "text": [
      "total 376\r\n",
      "lrwxrwxrwx.    1 root root      7 Jun  3  2019 \u001b[0m\u001b[01;36mbin\u001b[0m -> \u001b[01;34musr/bin\u001b[0m/\r\n",
      "dr-xr-xr-x.    5 root root   4096 Feb  6 16:14 \u001b[01;34mboot\u001b[0m/\r\n",
      "drwxr-xr-x.   20 root root   3300 Feb  7 16:33 \u001b[01;34mdev\u001b[0m/\r\n",
      "drwxr-xr-x.  103 root root      0 Nov 18 02:32 \u001b[01;34mdls\u001b[0m/\r\n",
      "drwxr-xr-x.   79 root root      0 Nov  4 16:07 \u001b[01;34mdls_sw\u001b[0m/\r\n",
      "drwxr-xr-x.  176 root root  12288 Feb  6 16:12 \u001b[01;34metc\u001b[0m/\r\n",
      "drwxr-xr-x.   37 root root      0 Feb 12 19:40 \u001b[01;34mhome\u001b[0m/\r\n",
      "lrwxrwxrwx.    1 root root      7 Jun  3  2019 \u001b[01;36mlib\u001b[0m -> \u001b[01;34musr/lib\u001b[0m/\r\n",
      "lrwxrwxrwx.    1 root root      9 Jun  3  2019 \u001b[01;36mlib64\u001b[0m -> \u001b[01;34musr/lib64\u001b[0m/\r\n",
      "drwxr-xr-x.    4 root root   4096 Jun  3  2019 \u001b[01;34mlocalhome\u001b[0m/\r\n",
      "drwx------.    2 root root  16384 Jun  3  2019 \u001b[01;34mlost+found\u001b[0m/\r\n",
      "drwxr-xr-x.    3 root root   4096 Jun  3  2019 \u001b[01;34mmedia\u001b[0m/\r\n",
      "drwxr-xr-x.    3 root root   4096 Jun  3  2019 \u001b[01;34mmnt\u001b[0m/\r\n",
      "drwxr-xr-x.    6 root root   4096 Aug 21 13:20 \u001b[01;34mopt\u001b[0m/\r\n",
      "dr-xr-xr-x. 2976 root root      0 Nov  4 16:06 \u001b[01;34mproc\u001b[0m/\r\n",
      "dr-xr-x---.    5 root root   4096 Nov  5 11:02 \u001b[01;34mroot\u001b[0m/\r\n",
      "drwxr-xr-x.   53 root root   1560 Feb 12 19:34 \u001b[01;34mrun\u001b[0m/\r\n",
      "lrwxrwxrwx.    1 root root      8 Jun  3  2019 \u001b[01;36msbin\u001b[0m -> \u001b[01;34musr/sbin\u001b[0m/\r\n",
      "drwxrwxrwt.   19 root root   4096 Jan  7 11:41 \u001b[30;42mscratch\u001b[0m/\r\n",
      "drwxr-xr-x.    2 root root   4096 Dec 14  2017 \u001b[01;34msrv\u001b[0m/\r\n",
      "dr-xr-xr-x.   13 root root      0 Nov  4 16:06 \u001b[01;34msys\u001b[0m/\r\n",
      "drwxrwxrwt.  126 root root 311296 Feb 12 20:20 \u001b[30;42mtmp\u001b[0m/\r\n",
      "drwxr-xr-x.   15 root root   4096 Jun  3  2019 \u001b[01;34musr\u001b[0m/\r\n",
      "drwxr-xr-x.   25 root root   4096 Jun  3  2019 \u001b[01;34mvar\u001b[0m/\r\n"
     ]
    }
   ],
   "source": [
    "ls -l"
   ]
  },
  {
   "cell_type": "markdown",
   "metadata": {},
   "source": [
    "There are many subdirectories under the root directory.  Of special interest are /dls and /dls_sw.  These directory contain Diamond specific files.  Take a look at the contents of /dls first:"
   ]
  },
  {
   "cell_type": "code",
   "execution_count": 17,
   "metadata": {},
   "outputs": [
    {
     "name": "stdout",
     "output_type": "stream",
     "text": [
      "\u001b[0m\u001b[01;34marchive\u001b[0m/     \u001b[01;34mdetectors\u001b[0m/  \u001b[01;34mi05-1\u001b[0m/  \u001b[01;34mi13-1\u001b[0m/  \u001b[01;34mi24\u001b[0m/            \u001b[01;34mmetrix\u001b[0m/       \u001b[01;34mtmp\u001b[0m/\r\n",
      "\u001b[01;34mb01\u001b[0m/         \u001b[01;34me01\u001b[0m/        \u001b[01;34mi06\u001b[0m/    \u001b[01;34mi14\u001b[0m/    \u001b[01;34mk11\u001b[0m/            \u001b[01;34mmpl\u001b[0m/          \u001b[01;34mverne\u001b[0m/\r\n",
      "\u001b[01;34mb07\u001b[0m/         \u001b[01;34me01-1\u001b[0m/      \u001b[01;34mi06-1\u001b[0m/  \u001b[01;34mi14-1\u001b[0m/  \u001b[01;34mlabxchem\u001b[0m/       \u001b[01;34mmx\u001b[0m/           \u001b[01;34mx01\u001b[0m/\r\n",
      "\u001b[01;34mb07-1\u001b[0m/       \u001b[01;34me01-2\u001b[0m/      \u001b[01;34mi07\u001b[0m/    \u001b[01;34mi15\u001b[0m/    \u001b[01;34mm01\u001b[0m/            \u001b[01;34mmx-scratch\u001b[0m/   \u001b[01;34mx01-1\u001b[0m/\r\n",
      "\u001b[01;34mb16\u001b[0m/         \u001b[01;34me02\u001b[0m/        \u001b[01;34mi08\u001b[0m/    \u001b[01;34mi15-1\u001b[0m/  \u001b[01;34mm02\u001b[0m/            \u001b[01;34mops-data\u001b[0m/     \u001b[01;34mx01-2\u001b[0m/\r\n",
      "\u001b[01;34mb18\u001b[0m/         \u001b[01;34me02-1\u001b[0m/      \u001b[01;34mi08-1\u001b[0m/  \u001b[01;34mi16\u001b[0m/    \u001b[01;34mm03\u001b[0m/            \u001b[01;34mops-physics\u001b[0m/  \u001b[01;34mx01-3\u001b[0m/\r\n",
      "\u001b[01;34mb21\u001b[0m/         \u001b[01;34me02-2\u001b[0m/      \u001b[01;34mi09\u001b[0m/    \u001b[01;34mi18\u001b[0m/    \u001b[01;34mm04\u001b[0m/            \u001b[01;34mp29\u001b[0m/          \u001b[01;34mx02-1\u001b[0m/\r\n",
      "\u001b[01;34mb22\u001b[0m/         \u001b[01;34mebic\u001b[0m/       \u001b[01;34mi09-1\u001b[0m/  \u001b[01;34mi19\u001b[0m/    \u001b[01;34mm05\u001b[0m/            \u001b[01;34mp38\u001b[0m/          \u001b[01;34mx03-1\u001b[0m/\r\n",
      "\u001b[01;34mb23\u001b[0m/         \u001b[01;34mi02\u001b[0m/        \u001b[01;34mi09-2\u001b[0m/  \u001b[01;34mi19-1\u001b[0m/  \u001b[01;34mm06\u001b[0m/            \u001b[01;34mp45\u001b[0m/          \u001b[01;34mx03-2\u001b[0m/\r\n",
      "\u001b[01;34mb24\u001b[0m/         \u001b[01;34mi02-1\u001b[0m/      \u001b[01;34mi10\u001b[0m/    \u001b[01;34mi19-2\u001b[0m/  \u001b[01;34mm07\u001b[0m/            \u001b[01;34mp99\u001b[0m/          \u001b[01;34mx04-1\u001b[0m/\r\n",
      "\u001b[01;34mb24-1\u001b[0m/       \u001b[01;34mi02-2\u001b[0m/      \u001b[01;34mi10-1\u001b[0m/  \u001b[01;34mi20\u001b[0m/    \u001b[01;34mm08\u001b[0m/            \u001b[01;34mphysics\u001b[0m/      \u001b[01;34mx05-1\u001b[0m/\r\n",
      "\u001b[01;34mbl-misc\u001b[0m/     \u001b[01;34mi03\u001b[0m/        \u001b[01;34mi11\u001b[0m/    \u001b[01;34mi20-1\u001b[0m/  \u001b[01;34mm10\u001b[0m/            \u001b[01;34mscience\u001b[0m/\r\n",
      "\u001b[01;34mcs-iocs\u001b[0m/     \u001b[01;34mi04\u001b[0m/        \u001b[01;34mi11-1\u001b[0m/  \u001b[01;34mi21\u001b[0m/    \u001b[01;34mm11\u001b[0m/            \u001b[01;34msms\u001b[0m/\r\n",
      "\u001b[01;34mcs-scratch\u001b[0m/  \u001b[01;34mi04-1\u001b[0m/      \u001b[01;34mi12\u001b[0m/    \u001b[01;34mi22\u001b[0m/    \u001b[01;34mm13\u001b[0m/            \u001b[01;34mstaging\u001b[0m/\r\n",
      "\u001b[01;34mcs-www\u001b[0m/      \u001b[01;34mi05\u001b[0m/        \u001b[01;34mi13\u001b[0m/    \u001b[01;34mi23\u001b[0m/    \u001b[01;34mmachineStatus\u001b[0m/  \u001b[01;34mtechnical\u001b[0m/\r\n"
     ]
    }
   ],
   "source": [
    "ls dls"
   ]
  },
  {
   "cell_type": "markdown",
   "metadata": {},
   "source": [
    "This folder contains files for beamlines.\n",
    "Note you can use 'ls' to look at the files in a subdiectory without 'cd'ing to that directory.\n",
    "Probing a bit deeper we can see all the beamline data files:"
   ]
  },
  {
   "cell_type": "code",
   "execution_count": 18,
   "metadata": {},
   "outputs": [
    {
     "name": "stdout",
     "output_type": "stream",
     "text": [
      "total 0\r\n",
      "drwxr-xr-x.  3 root        root        4096 Feb  3  2010 \u001b[0m\u001b[01;34m2009\u001b[0m/\r\n",
      "drwxrwxr-x+ 18 root        root        4096 Mar 12  2019 \u001b[01;34m2011\u001b[0m/\r\n",
      "drwxrwxr-x+  8 kdf51254    kdf51254    4096 Nov  6  2014 \u001b[01;34m2012\u001b[0m/\r\n",
      "drwxrwxr-x+  8 root        root        4096 Aug 29 02:21 \u001b[01;34m2013\u001b[0m/\r\n",
      "drwxrwxr-x+  5 qqs43472    qqs43472    4096 Aug 29 05:16 \u001b[01;34m2014\u001b[0m/\r\n",
      "drwxrwxr-x+  6 root        root        4096 Aug 29 00:38 \u001b[01;34m2015\u001b[0m/\r\n",
      "drwxrwxr-x+  9 facilityacc facilityacc 4096 Feb 19  2019 \u001b[01;34m2016\u001b[0m/\r\n",
      "drwxrwxr-x+ 79 facilityacc facilityacc 4096 Feb 19  2019 \u001b[01;34m2017\u001b[0m/\r\n",
      "drwxrwxr-x+ 56 facilityacc facilityacc 4096 Aug 29 07:37 \u001b[01;34m2018\u001b[0m/\r\n",
      "drwxrwxr-x+ 52 facilityacc facilityacc 4096 Dec 13 00:04 \u001b[01;34m2019\u001b[0m/\r\n",
      "drwxrwxr-x+ 12 facilityacc facilityacc 4096 Feb 10 00:04 \u001b[01;34m2020\u001b[0m/\r\n"
     ]
    }
   ],
   "source": [
    "ls -l /dls/i22/data"
   ]
  },
  {
   "cell_type": "markdown",
   "metadata": {},
   "source": [
    "Next we look at /dls_sw:"
   ]
  },
  {
   "cell_type": "code",
   "execution_count": 19,
   "metadata": {},
   "outputs": [
    {
     "name": "stdout",
     "output_type": "stream",
     "text": [
      "total 152\r\n",
      "drwxrwsr-x+  2 root       dls_dasc  4096 Sep 18  2014 \u001b[0m\u001b[01;34mbin\u001b[0m/\r\n",
      "drwxrwsr-x+ 10 epics_user dcs       4096 Feb  6 15:35 \u001b[01;34mepics\u001b[0m/\r\n",
      "drwxrwsr-x+  5 root       dls_dasc  4096 Feb 11 13:44 \u001b[01;34metc\u001b[0m/\r\n",
      "drwxrwsrwx+  8 epics_user dls_dasc 98304 Feb 12 14:53 \u001b[34;42mlogs\u001b[0m/\r\n",
      "drwxrwsrwx+  5 gda2       dls_dasc  4096 Jan  5  2016 \u001b[34;42mscripts\u001b[0m/\r\n",
      "drwxrwsr-x+  7 gda2       dls_dasc  4096 Feb 11 16:51 \u001b[01;34msoftware\u001b[0m/\r\n",
      "drwxrwsrwx+  2 root       dls_dasc  4096 Nov 28  2016 \u001b[34;42mvar\u001b[0m/\r\n"
     ]
    }
   ],
   "source": [
    "ls -l /dls_sw/i22"
   ]
  },
  {
   "cell_type": "markdown",
   "metadata": {},
   "source": [
    "This contains software used on the beamline."
   ]
  },
  {
   "cell_type": "markdown",
   "metadata": {},
   "source": [
    "To complete this short tutorial, we will remove the files we created, by running 'cd' and 'rm':"
   ]
  },
  {
   "cell_type": "code",
   "execution_count": 20,
   "metadata": {},
   "outputs": [
    {
     "name": "stdout",
     "output_type": "stream",
     "text": [
      "/home/wns35789\n"
     ]
    }
   ],
   "source": [
    "cd"
   ]
  },
  {
   "cell_type": "code",
   "execution_count": 21,
   "metadata": {},
   "outputs": [],
   "source": [
    "rm -r basic"
   ]
  }
 ],
 "metadata": {
  "kernelspec": {
   "display_name": "Python 3.7",
   "language": "python",
   "name": "python3"
  },
  "language_info": {
   "codemirror_mode": {
    "name": "ipython",
    "version": 3
   },
   "file_extension": ".py",
   "mimetype": "text/x-python",
   "name": "python",
   "nbconvert_exporter": "python",
   "pygments_lexer": "ipython3",
   "version": "3.7.3"
  }
 },
 "nbformat": 4,
 "nbformat_minor": 2
}
