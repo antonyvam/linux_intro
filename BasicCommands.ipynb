{
 "cells": [
  {
   "cell_type": "markdown",
   "metadata": {},
   "source": [
    "# Basic Linux Commands"
   ]
  },
  {
   "cell_type": "markdown",
   "metadata": {},
   "source": [
    "In this tutorial we will look at some basic Linux commands:\n",
    "ls pwd cd mkdir mv cp rm"
   ]
  },
  {
   "cell_type": "markdown",
   "metadata": {},
   "source": [
    "## ls\n",
    "After logging in, you will want to find out what files exist in your home directory using the 'ls' command:"
   ]
  },
  {
   "cell_type": "markdown",
   "metadata": {},
   "source": [
    "ls"
   ]
  },
  {
   "cell_type": "markdown",
   "metadata": {},
   "source": [
    "#### To get more information, ls has a number of options.  The -l option gives a 'long' listing:"
   ]
  },
  {
   "cell_type": "code",
   "execution_count": 21,
   "metadata": {},
   "outputs": [
    {
     "name": "stdout",
     "output_type": "stream",
     "text": [
      "total 5804\r\n",
      "drwxrwxr-x.  2 wns35789 wns35789    4096 Sep 29 21:48 \u001b[0m\u001b[01;34mbin\u001b[0m/\r\n",
      "-rw-rw-r--.  1 wns35789 wns35789 2552258 Oct 12 15:57 \u001b[01;31mcppex.zip\u001b[0m\r\n",
      "-rw-rw-r--.  1 wns35789 wns35789   11349 Dec 13 16:11 dawnlog_2019-11-28.0.html\r\n",
      "-rw-rw-r--.  1 wns35789 wns35789   11349 Jan 24 12:34 dawnlog_2019-12-13.0.html\r\n",
      "-rw-rw-r--.  1 wns35789 wns35789    7824 Jan 24 22:00 dawnlog.html\r\n",
      "drwxrwxr-x.  5 wns35789 wns35789    4096 Nov 19 17:30 \u001b[01;34mDAWN_stable\u001b[0m/\r\n",
      "-rw-rw-r--.  1 wns35789 wns35789  315810 Oct 23 14:14 \u001b[01;31mDemos2.zip\u001b[0m\r\n",
      "-rw-rw-r--.  1 wns35789 wns35789  732913 Oct 23 14:14 \u001b[01;31mDemos.zip\u001b[0m\r\n",
      "drwxr-xr-x.  3 wns35789 wns35789    4096 Sep 29 21:54 \u001b[01;34mDesktop\u001b[0m/\r\n",
      "-rw-rw-r--.  1 wns35789 wns35789     133 Nov  7 20:05 docs\r\n",
      "drwxr-xr-x.  2 wns35789 wns35789    4096 Sep 29 21:37 \u001b[01;34mDownloads\u001b[0m/\r\n",
      "drwxrwxr-x.  9 wns35789 wns35789    4096 Oct  7 15:59 \u001b[01;34meclipse-workspace\u001b[0m/\r\n",
      "-rw-rw-r--.  1 wns35789 wns35789      22 Jan 30 14:48 file1\r\n",
      "-rw-rw-r--.  1 wns35789 wns35789      21 Jan 30 14:48 file2\r\n",
      "drwxr-xr-x.  2 wns35789 wns35789    4096 Oct 22 09:05 \u001b[01;34mfontconfig\u001b[0m/\r\n",
      "drwxrwxr-x.  5 wns35789 wns35789    4096 Jan 24 21:48 \u001b[01;34mgda-example-config\u001b[0m/\r\n",
      "drwxrwxr-x.  2 wns35789 wns35789    4096 Jan 24 21:27 \u001b[01;34mgda_training\u001b[0m/\r\n",
      "drwxrwxr-x. 10 wns35789 wns35789    4096 Jan  8 20:27 \u001b[01;34mgithub\u001b[0m/\r\n",
      "drwxrwxr-x.  4 wns35789 wns35789    4096 Jan 30 19:21 \u001b[01;34mLinuxIntro\u001b[0m/\r\n",
      "-rw-rw-r--.  1 wns35789 wns35789 1802606 Jan 25 20:02 log_dat.txt\r\n",
      "-rw-rw-r--.  1 wns35789 wns35789  298358 Jan 25 20:02 log_nxs.txt\r\n",
      "-rw-rw-r--.  1 wns35789 wns35789   67004 Oct  7 14:33 MODULE_LIST\r\n",
      "-rw-rw-r--.  1 wns35789 wns35789     666 Nov 19 17:28 mynexus.py\r\n",
      "drwxrwxr-x.  3 wns35789 wns35789    4096 Jan 30 18:55 \u001b[01;34mnotebooks\u001b[0m/\r\n",
      "drwxrwxr-x.  2 wns35789 wns35789    4096 Oct  4 11:49 \u001b[01;34mNOTES\u001b[0m/\r\n",
      "drwxrwxr-x.  2 wns35789 wns35789    4096 Oct  1 13:58 \u001b[01;34mperl5\u001b[0m/\r\n",
      "drwxrwxr-x.  4 wns35789 wns35789    4096 Sep 19 22:02 \u001b[01;34mpretty_printers\u001b[0m/\r\n",
      "drwxrwxr-x.  2 wns35789 wns35789    4096 Sep 24 13:10 \u001b[01;34mprivatemodules\u001b[0m/\r\n",
      "drwxrwxr-x.  2 wns35789 wns35789    4096 Nov 19 16:17 \u001b[01;34m__pycache__\u001b[0m/\r\n",
      "drwxrwxr-x.  3 wns35789 wns35789    4096 Oct 13 22:09 \u001b[01;34mPycharmProjects\u001b[0m/\r\n",
      "drwxrwxr-x.  3 wns35789 wns35789    4096 Mar  5  2016 \u001b[01;34mScripts: User\u001b[0m/\r\n",
      "drwxrwxr-x.  2 wns35789 wns35789    4096 Jan 24 16:35 \u001b[01;34mseaborn-data\u001b[0m/\r\n",
      "drwxrwxr-x.  5 wns35789 wns35789    4096 Nov 20 10:34 \u001b[01;34mworkspace\u001b[0m/\r\n"
     ]
    }
   ],
   "source": [
    "ls -l"
   ]
  },
  {
   "cell_type": "markdown",
   "metadata": {},
   "source": [
    "Notice the file permissions at the start of each line.  If the permissions start with a '-' this indicates a regular file.  If they start with a 'd' then this is a directory.  Other file types exist.\n",
    "Linux has a convention that 'hidden' files begin with a '.'.  Hidden files are used for admin purposes and are normally not shown.  However, you can see these files using the '-a' option:"
   ]
  },
  {
   "cell_type": "code",
   "execution_count": 22,
   "metadata": {},
   "outputs": [
    {
     "name": "stdout",
     "output_type": "stream",
     "text": [
      "total 6172\r\n",
      "drwxr-xr-x. 72 wns35789 wns35789   12288 Jan 30 19:22 \u001b[0m\u001b[01;34m.\u001b[0m/\r\n",
      "drwxr-xr-x. 26 root     root           0 Jan 30 19:15 \u001b[01;34m..\u001b[0m/\r\n",
      "drwxrwxr-x.  2 wns35789 wns35789    4096 Oct  2 08:56 \u001b[01;34m.abrt\u001b[0m/\r\n",
      "drwx------.  3 wns35789 wns35789    4096 Nov  3  2015 \u001b[01;34m.adobe\u001b[0m/\r\n",
      "drwxrwxr-x.  3 wns35789 wns35789    4096 Mar 23  2015 \u001b[01;34m.astropy\u001b[0m/\r\n",
      "-rw-------.  1 wns35789 wns35789   12426 Jan 30 14:15 .bash_history\r\n",
      "-rw-r--r--.  1 wns35789 wns35789      18 Mar 18  2015 .bash_logout\r\n",
      "-rw-r--r--.  1 wns35789 wns35789     567 May 13  2016 .bash_profile\r\n",
      "-rw-r--r--.  1 wns35789 wns35789    1487 Jan 30 14:15 .bashrc\r\n",
      "-rw-rw-r--.  1 wns35789 wns35789      71 Feb 29  2016 .bashrc_local\r\n",
      "drwxrwxr-x.  2 wns35789 wns35789    4096 Sep 29 21:48 \u001b[01;34mbin\u001b[0m/\r\n",
      "drwxr-xr-x. 32 wns35789 wns35789    8192 Jan 30 14:13 \u001b[01;34m.cache\u001b[0m/\r\n",
      "drwxr-xr-x. 27 wns35789 wns35789    4096 Dec 13 10:01 \u001b[01;34m.config\u001b[0m/\r\n",
      "-rw-rw-r--.  1 wns35789 wns35789 2552258 Oct 12 15:57 \u001b[01;31mcppex.zip\u001b[0m\r\n",
      "drwxrwxr-x.  2 wns35789 wns35789    4096 Apr 11  2015 \u001b[01;34m.dawn\u001b[0m/\r\n",
      "-rw-rw-r--.  1 wns35789 wns35789   11349 Dec 13 16:11 dawnlog_2019-11-28.0.html\r\n",
      "-rw-rw-r--.  1 wns35789 wns35789   11349 Jan 24 12:34 dawnlog_2019-12-13.0.html\r\n",
      "-rw-rw-r--.  1 wns35789 wns35789    7824 Jan 24 22:00 dawnlog.html\r\n",
      "drwxrwxr-x.  5 wns35789 wns35789    4096 Nov 19 17:30 \u001b[01;34mDAWN_stable\u001b[0m/\r\n",
      "drwx------.  3 wns35789 wns35789    4096 Mar 20  2015 \u001b[01;34m.dbus\u001b[0m/\r\n",
      "-rw-rw-r--.  1 wns35789 wns35789  315810 Oct 23 14:14 \u001b[01;31mDemos2.zip\u001b[0m\r\n",
      "-rw-rw-r--.  1 wns35789 wns35789  732913 Oct 23 14:14 \u001b[01;31mDemos.zip\u001b[0m\r\n",
      "drwxr-xr-x.  3 wns35789 wns35789    4096 Sep 29 21:54 \u001b[01;34mDesktop\u001b[0m/\r\n",
      "-rw-------.  1 wns35789 wns35789       0 Mar 20  2015 .DiamondLauncher\r\n",
      "-rw-rw-r--.  1 wns35789 wns35789     133 Nov  7 20:05 docs\r\n",
      "drwxr-xr-x.  2 wns35789 wns35789    4096 Sep 29 21:37 \u001b[01;34mDownloads\u001b[0m/\r\n",
      "drwxrwxr-x. 11 wns35789 wns35789    4096 Jan 24 21:37 \u001b[01;34m.eclipse\u001b[0m/\r\n",
      "drwxrwxr-x.  9 wns35789 wns35789    4096 Oct  7 15:59 \u001b[01;34meclipse-workspace\u001b[0m/\r\n",
      "drwx------.  3 wns35789 wns35789    4096 Nov 27 13:47 \u001b[01;34m.emacs.d\u001b[0m/\r\n",
      "drwxrwxr-x.  3 wns35789 wns35789    4096 Mar 23  2015 \u001b[01;34m.enthought\u001b[0m/\r\n",
      "-rw-------.  1 wns35789 wns35789      16 Mar 23  2015 .esd_auth\r\n",
      "-rw-rw-r--.  1 wns35789 wns35789      45 Apr 16  2015 .exrc\r\n",
      "-rw-rw-r--.  1 wns35789 wns35789      22 Jan 30 14:48 file1\r\n",
      "-rw-rw-r--.  1 wns35789 wns35789      21 Jan 30 14:48 file2\r\n",
      "drwxr-xr-x.  2 wns35789 wns35789    4096 Oct 22 09:05 \u001b[01;34mfontconfig\u001b[0m/\r\n",
      "drwxr-xr-x.  2 wns35789 wns35789    8192 Jun  8  2016 \u001b[01;34m.fontconfig\u001b[0m/\r\n",
      "drwx------.  2 wns35789 wns35789    4096 Oct  1 20:59 \u001b[01;34m.freerdp\u001b[0m/\r\n",
      "drwx------.  4 wns35789 wns35789    4096 Jan 30 14:13 \u001b[01;34m.gconf\u001b[0m/\r\n",
      "drwx------.  2 wns35789 wns35789    4096 Jul 13  2016 \u001b[01;34m.gconfd\u001b[0m/\r\n",
      "drwxrwxr-x.  5 wns35789 wns35789    4096 Jan 24 21:48 \u001b[01;34mgda-example-config\u001b[0m/\r\n",
      "drwxrwxr-x.  2 wns35789 wns35789    4096 Jan 24 21:27 \u001b[01;34mgda_training\u001b[0m/\r\n",
      "-rw-rw-r--.  1 wns35789 wns35789     273 Sep 21 05:30 .gdbinit\r\n",
      "drwxr-xr-x. 22 wns35789 wns35789    4096 Jul 17  2015 \u001b[01;34m.gimp-2.6\u001b[0m/\r\n",
      "-rw-rw-r--.  1 wns35789 wns35789      93 Nov 28 14:20 .gitconfig\r\n",
      "-rw-------.  1 wns35789 wns35789      60 Jan 25 18:51 .git-credentials\r\n",
      "drwxrwxr-x. 10 wns35789 wns35789    4096 Jan  8 20:27 \u001b[01;34mgithub\u001b[0m/\r\n",
      "drwx------.  3 wns35789 wns35789    4096 Oct 13 22:08 \u001b[01;34m.gnome\u001b[0m/\r\n",
      "drwx------.  9 wns35789 wns35789    4096 May 20  2016 \u001b[01;34m.gnome2\u001b[0m/\r\n",
      "drwx------.  2 wns35789 wns35789    4096 Mar 20  2015 \u001b[01;34m.gnome2_private\u001b[0m/\r\n",
      "drwxrwxr-x.  3 wns35789 wns35789    4096 Mar 20  2015 \u001b[01;34m.gnote\u001b[0m/\r\n",
      "drwx------.  2 wns35789 wns35789    4096 Dec 13 08:48 \u001b[01;34m.gnupg\u001b[0m/\r\n",
      "drwxrwxr-x.  2 wns35789 wns35789    4096 Jul 13  2016 \u001b[01;34m.gstreamer-0.10\u001b[0m/\r\n",
      "-rw-rw-r--.  1 wns35789 wns35789     152 Oct 22 08:36 .gtk-bookmarks\r\n",
      "drwx------.  2 wns35789 wns35789    4096 Mar 20  2015 \u001b[01;34m.gvfs\u001b[0m/\r\n",
      "drwxrwxr-x.  2 wns35789 wns35789    4096 Oct  4 12:09 \u001b[01;34m.hyperspy\u001b[0m/\r\n",
      "-rw-------.  1 wns35789 wns35789   20012 Dec 13 10:29 .ICEauthority\r\n",
      "drwxrwxr-x.  2 wns35789 wns35789    4096 Oct  2 12:22 \u001b[01;34m.icons\u001b[0m/\r\n",
      "drwxr-xr-x.  5 wns35789 wns35789    4096 Apr 26  2016 \u001b[01;34m.ipython\u001b[0m/\r\n",
      "drwxrwxr-x.  4 wns35789 wns35789    4096 Oct 13 22:08 \u001b[01;34m.java\u001b[0m/\r\n",
      "drwxrwxr-x.  3 wns35789 wns35789    4096 Jan 30 19:04 \u001b[01;34m.jupyter\u001b[0m/\r\n",
      "drwx------.  3 wns35789 wns35789    4096 Jan 30 19:17 \u001b[01;34m.kde\u001b[0m/\r\n",
      "drwxrwxr-x.  2 wns35789 wns35789    4096 Nov 20 10:18 \u001b[01;34m.keras\u001b[0m/\r\n",
      "-rw-------.  1 wns35789 wns35789      50 Nov 19 17:52 .lesshst\r\n",
      "drwxrwxr-x.  4 wns35789 wns35789    4096 Jan 30 19:21 \u001b[01;34mLinuxIntro\u001b[0m/\r\n",
      "drwxr-xr-x.  7 wns35789 wns35789    4096 Apr 26  2016 \u001b[01;34m.local\u001b[0m/\r\n",
      "-rw-rw-r--.  1 wns35789 wns35789 1802606 Jan 25 20:02 log_dat.txt\r\n",
      "-rw-rw-r--.  1 wns35789 wns35789  298358 Jan 25 20:02 log_nxs.txt\r\n",
      "drwx------.  3 wns35789 wns35789    4096 Feb 25  2016 \u001b[01;34m.macromedia\u001b[0m/\r\n",
      "drwxrwxr-x.  2 wns35789 wns35789    4096 Oct 13 22:12 \u001b[01;34m.matplotlib\u001b[0m/\r\n",
      "-rw-rw-r--.  1 wns35789 wns35789   67004 Oct  7 14:33 MODULE_LIST\r\n",
      "drwxrwxr-x.  5 wns35789 wns35789    4096 Sep 18 15:37 \u001b[01;34m.mozilla\u001b[0m/\r\n",
      "-rw-rw-r--.  1 wns35789 wns35789     666 Nov 19 17:28 mynexus.py\r\n",
      "drwxr-xr-x.  2 wns35789 wns35789    4096 Mar 20  2015 \u001b[01;34m.nautilus\u001b[0m/\r\n",
      "-rw-------.  1 wns35789 wns35789    4096 Jul 15  2015 .nfs000000000083e0fa00000007\r\n",
      "drwxrwxr-x.  3 wns35789 wns35789    4096 Jan 30 18:55 \u001b[01;34mnotebooks\u001b[0m/\r\n",
      "drwxrwxr-x.  2 wns35789 wns35789    4096 Oct  4 11:49 \u001b[01;34mNOTES\u001b[0m/\r\n",
      "drwx------. 89 wns35789 wns35789   16384 Jan 30 12:56 \u001b[01;34m.nx\u001b[0m/\r\n",
      "drwxrwxr-x.  2 wns35789 wns35789    4096 Dec  7 11:36 \u001b[01;34m.oracle_jre_usage\u001b[0m/\r\n",
      "drwxrwxr-x.  2 wns35789 wns35789    4096 Oct  1 13:58 \u001b[01;34mperl5\u001b[0m/\r\n",
      "drwxrw----.  3 wns35789 wns35789    4096 Mar 20  2015 \u001b[01;34m.pki\u001b[0m/\r\n",
      "drwxrwxr-x.  4 wns35789 wns35789    4096 Sep 19 22:02 \u001b[01;34mpretty_printers\u001b[0m/\r\n",
      "drwxrwxr-x.  2 wns35789 wns35789    4096 Sep 24 13:10 \u001b[01;34mprivatemodules\u001b[0m/\r\n",
      "drwx------.  2 wns35789 wns35789   20480 Nov 26 08:40 \u001b[01;34m.pulse\u001b[0m/\r\n",
      "-rw-------.  1 wns35789 wns35789     256 Mar 20  2015 .pulse-cookie\r\n",
      "drwxrwxr-x.  2 wns35789 wns35789    4096 Nov 19 16:17 \u001b[01;34m__pycache__\u001b[0m/\r\n",
      "drwxrwxr-x.  4 wns35789 wns35789    4096 Oct 13 22:08 \u001b[01;34m.PyCharmCE2017.1\u001b[0m/\r\n",
      "drwxrwxr-x.  3 wns35789 wns35789    4096 Oct 13 22:09 \u001b[01;34mPycharmProjects\u001b[0m/\r\n",
      "-rw-------.  1 wns35789 wns35789     437 Jan 30 14:17 .python_history\r\n",
      "drwx------.  2 wns35789 wns35789    4096 Mar 20  2015 \u001b[01;34m.qt\u001b[0m/\r\n",
      "drwxrwxr-x.  3 wns35789 wns35789    4096 Mar  5  2016 \u001b[01;34mScripts: User\u001b[0m/\r\n",
      "drwxrwxr-x.  2 wns35789 wns35789    4096 Jan 24 16:35 \u001b[01;34mseaborn-data\u001b[0m/\r\n",
      "-rw-------.  1 wns35789 wns35789      24 Apr 11  2015 .sh_history\r\n",
      "drwxrwxrwx. 17 root     root        8192 Jan 30 19:05 \u001b[34;42m.snapshot\u001b[0m/\r\n",
      "drwxrwxr-x.  4 wns35789 wns35789    4096 Sep 18 15:27 \u001b[01;34m.sonarlint\u001b[0m/\r\n",
      "drwx------.  2 wns35789 wns35789    4096 Nov  3  2015 \u001b[01;34m.ssh\u001b[0m/\r\n",
      "drwxrwxr-x.  3 wns35789 wns35789    4096 Sep 19 21:28 \u001b[01;34m.subversion\u001b[0m/\r\n",
      "drwxrwxr-x.  3 wns35789 wns35789    4096 Oct  2 08:59 \u001b[01;34m.swt\u001b[0m/\r\n",
      "drwxrwxr-x.  2 wns35789 wns35789    4096 Oct  2 12:22 \u001b[01;34m.themes\u001b[0m/\r\n",
      "drwx------.  4 wns35789 wns35789    4096 Oct  2 12:22 \u001b[01;34m.thumbnails\u001b[0m/\r\n",
      "drwx------.  3 wns35789 wns35789    4096 Nov 27 12:26 \u001b[01;34m.thunderbird\u001b[0m/\r\n",
      "drwxrwxr-x.  3 wns35789 wns35789    4096 Sep 18 15:14 \u001b[01;34m.tooling\u001b[0m/\r\n",
      "-rw-------.  1 wns35789 wns35789      44 Jan 30 19:21 .vas_disauthcc_1206733\r\n",
      "-rw-r--r--.  1 wns35789 wns35789      24 Jan 30 13:08 .vas_logon_server\r\n",
      "drwxr-xr-x.  2 wns35789 wns35789    4096 Sep 20 21:16 \u001b[01;34m.vim\u001b[0m/\r\n",
      "-rw-------.  1 wns35789 wns35789    7907 Jan 30 19:12 .viminfo\r\n",
      "-rw-rw-r--.  1 wns35789 wns35789     110 Oct  4 11:46 .vimrc\r\n",
      "drwxr-x--x.  2 wns35789 wns35789    4096 Oct  2 12:23 \u001b[01;34m.virt-manager\u001b[0m/\r\n",
      "drwxrwxr-x.  5 wns35789 wns35789    4096 Nov 20 10:34 \u001b[01;34mworkspace\u001b[0m/\r\n",
      "-rw-------.  1 wns35789 wns35789    1350 Jan 30 13:08 .Xauthority\r\n",
      "-rw-rw-r--.  1 wns35789 wns35789     189 Sep 27 21:09 .Xresources\r\n",
      "-rw-------.  1 wns35789 wns35789    6686 Jan  8 20:20 .xsession-errors\r\n",
      "-rw-------.  1 wns35789 wns35789    9507 Oct 20 23:37 .xsession-errors.old\r\n"
     ]
    }
   ],
   "source": [
    "ls -al"
   ]
  },
  {
   "cell_type": "markdown",
   "metadata": {},
   "source": [
    "The '.' and '..' directory files are special and refer to the current directory and its parent directory respectively."
   ]
  },
  {
   "cell_type": "markdown",
   "metadata": {},
   "source": [
    "## pwd\n",
    "To see where you are in the directory hierarchy use the 'pwd' command.  This stands for 'Print Working Directory':"
   ]
  },
  {
   "cell_type": "code",
   "execution_count": 23,
   "metadata": {},
   "outputs": [
    {
     "data": {
      "text/plain": [
       "'/home/wns35789'"
      ]
     },
     "execution_count": 23,
     "metadata": {},
     "output_type": "execute_result"
    }
   ],
   "source": [
    "pwd"
   ]
  },
  {
   "cell_type": "markdown",
   "metadata": {},
   "source": [
    "You are probably in your home directory.  This is a subdirectory of the '/home' directory indicated by your Fed-Id.  You can always move to your home directory with the 'cd' command:\n"
   ]
  },
  {
   "cell_type": "code",
   "execution_count": 24,
   "metadata": {},
   "outputs": [
    {
     "name": "stdout",
     "output_type": "stream",
     "text": [
      "/home/wns35789\n"
     ]
    }
   ],
   "source": [
    "cd"
   ]
  },
  {
   "cell_type": "markdown",
   "metadata": {},
   "source": [
    "You can create other directories under your home directory.  To create a new directory:"
   ]
  },
  {
   "cell_type": "code",
   "execution_count": 25,
   "metadata": {},
   "outputs": [],
   "source": [
    "## mkdir\n",
    "!mkdir basic"
   ]
  },
  {
   "cell_type": "markdown",
   "metadata": {},
   "source": [
    "and to access this directory:"
   ]
  },
  {
   "cell_type": "code",
   "execution_count": 26,
   "metadata": {},
   "outputs": [
    {
     "name": "stdout",
     "output_type": "stream",
     "text": [
      "/home/wns35789/basic\n"
     ]
    }
   ],
   "source": [
    "cd basic"
   ]
  },
  {
   "cell_type": "markdown",
   "metadata": {},
   "source": [
    "You can now create files in this directory.  You would normally do this using an editor like 'vim'.  However for this tutorial we will take a shortcut and create file using the 'echo' command.  This will only allow us to create files with limited content, so it is not recommended for normal use, but will suffice here.\n",
    "Note that you must NOT type the ! on the command line.  It is only necessary here because of restrictions imposed by the Jupyter notebook."
   ]
  },
  {
   "cell_type": "code",
   "execution_count": 27,
   "metadata": {},
   "outputs": [
    {
     "name": "stdout",
     "output_type": "stream",
     "text": [
      "total 0\r\n",
      "-rw-rw-r--. 1 wns35789 wns35789 22 Jan 30 19:22 file1\r\n",
      "-rw-rw-r--. 1 wns35789 wns35789 21 Jan 30 19:22 file2\r\n"
     ]
    }
   ],
   "source": [
    "!echo \"This is my first file\" > file1\n",
    "!echo \"This is another file\" > file2\n",
    "!ls -l"
   ]
  },
  {
   "cell_type": "markdown",
   "metadata": {},
   "source": [
    "## cat\n",
    "To see the contents of these files, use 'cat':"
   ]
  },
  {
   "cell_type": "code",
   "execution_count": 28,
   "metadata": {},
   "outputs": [
    {
     "name": "stdout",
     "output_type": "stream",
     "text": [
      "This is my first file\r\n"
     ]
    }
   ],
   "source": [
    "cat file1"
   ]
  },
  {
   "cell_type": "code",
   "execution_count": 29,
   "metadata": {},
   "outputs": [
    {
     "name": "stdout",
     "output_type": "stream",
     "text": [
      "This is another file\r\n"
     ]
    }
   ],
   "source": [
    "cat file2"
   ]
  },
  {
   "cell_type": "markdown",
   "metadata": {},
   "source": [
    "## mv\n",
    "To rename a file use 'mv':"
   ]
  },
  {
   "cell_type": "code",
   "execution_count": 30,
   "metadata": {},
   "outputs": [
    {
     "name": "stdout",
     "output_type": "stream",
     "text": [
      "total 0\r\n",
      "-rw-rw-r--. 1 wns35789 wns35789 22 Jan 30 19:22 another_file\r\n",
      "-rw-rw-r--. 1 wns35789 wns35789 21 Jan 30 19:22 file2\r\n"
     ]
    }
   ],
   "source": [
    "!mv file1 another_file\n",
    "!ls -l"
   ]
  },
  {
   "cell_type": "markdown",
   "metadata": {},
   "source": [
    "## cp\n",
    "To copy a file use the 'cp' command:"
   ]
  },
  {
   "cell_type": "code",
   "execution_count": 31,
   "metadata": {},
   "outputs": [
    {
     "name": "stdout",
     "output_type": "stream",
     "text": [
      "total 0\r\n",
      "-rw-rw-r--. 1 wns35789 wns35789 22 Jan 30 19:22 another_file\r\n",
      "-rw-rw-r--. 1 wns35789 wns35789 21 Jan 30 19:22 file2\r\n",
      "-rw-rw-r--. 1 wns35789 wns35789 21 Jan 30 19:22 file3\r\n"
     ]
    }
   ],
   "source": [
    "!cp file2 file3\n",
    "!ls -l"
   ]
  },
  {
   "cell_type": "markdown",
   "metadata": {},
   "source": [
    "## rm\n",
    "To delete a file use 'rm':"
   ]
  },
  {
   "cell_type": "code",
   "execution_count": 32,
   "metadata": {},
   "outputs": [
    {
     "name": "stdout",
     "output_type": "stream",
     "text": [
      "total 0\r\n",
      "-rw-rw-r--. 1 wns35789 wns35789 22 Jan 30 19:22 another_file\r\n",
      "-rw-rw-r--. 1 wns35789 wns35789 21 Jan 30 19:22 file3\r\n"
     ]
    }
   ],
   "source": [
    "!rm file2\n",
    "!ls -l"
   ]
  },
  {
   "cell_type": "markdown",
   "metadata": {},
   "source": [
    "## cd\n",
    "The 'cd' command allows you to navigate the filesystem:"
   ]
  },
  {
   "cell_type": "code",
   "execution_count": 33,
   "metadata": {},
   "outputs": [
    {
     "name": "stdout",
     "output_type": "stream",
     "text": [
      "/home/wns35789\n"
     ]
    }
   ],
   "source": [
    "cd .."
   ]
  },
  {
   "cell_type": "markdown",
   "metadata": {},
   "source": [
    "'..' takes you up one directory"
   ]
  },
  {
   "cell_type": "code",
   "execution_count": 34,
   "metadata": {},
   "outputs": [
    {
     "name": "stdout",
     "output_type": "stream",
     "text": [
      "/\n"
     ]
    }
   ],
   "source": [
    "cd /"
   ]
  },
  {
   "cell_type": "markdown",
   "metadata": {},
   "source": [
    "This takes you to the top of the filesystem, often refered to as 'root'."
   ]
  },
  {
   "cell_type": "code",
   "execution_count": 35,
   "metadata": {},
   "outputs": [
    {
     "name": "stdout",
     "output_type": "stream",
     "text": [
      "total 108\r\n",
      "lrwxrwxrwx.    1 root root     7 Jun  3  2019 \u001b[0m\u001b[01;36mbin\u001b[0m -> \u001b[01;34musr/bin\u001b[0m/\r\n",
      "dr-xr-xr-x.    5 root root  4096 Nov  4 14:05 \u001b[01;34mboot\u001b[0m/\r\n",
      "drwxr-xr-x.   20 root root  3300 Jan 28 06:56 \u001b[01;34mdev\u001b[0m/\r\n",
      "drwxr-xr-x.  103 root root     0 Nov 14 14:40 \u001b[01;34mdls\u001b[0m/\r\n",
      "drwxr-xr-x.   79 root root     0 Nov  4 15:08 \u001b[01;34mdls_sw\u001b[0m/\r\n",
      "drwxr-xr-x.  176 root root 12288 Jan 20 17:35 \u001b[01;34metc\u001b[0m/\r\n",
      "drwxr-xr-x.   26 root root     0 Jan 30 19:15 \u001b[01;34mhome\u001b[0m/\r\n",
      "lrwxrwxrwx.    1 root root     7 Jun  3  2019 \u001b[01;36mlib\u001b[0m -> \u001b[01;34musr/lib\u001b[0m/\r\n",
      "lrwxrwxrwx.    1 root root     9 Jun  3  2019 \u001b[01;36mlib64\u001b[0m -> \u001b[01;34musr/lib64\u001b[0m/\r\n",
      "drwxr-xr-x.    4 root root  4096 Jun  3  2019 \u001b[01;34mlocalhome\u001b[0m/\r\n",
      "drwx------.    2 root root 16384 Jun  3  2019 \u001b[01;34mlost+found\u001b[0m/\r\n",
      "drwxr-xr-x.    3 root root  4096 Jun  3  2019 \u001b[01;34mmedia\u001b[0m/\r\n",
      "drwxr-xr-x.    3 root root  4096 Jun  3  2019 \u001b[01;34mmnt\u001b[0m/\r\n",
      "drwxr-xr-x.    5 root root  4096 Jun  3  2019 \u001b[01;34mopt\u001b[0m/\r\n",
      "dr-xr-xr-x. 1872 root root     0 Nov  4 15:07 \u001b[01;34mproc\u001b[0m/\r\n",
      "dr-xr-x---.    5 root root  4096 Nov  5 11:02 \u001b[01;34mroot\u001b[0m/\r\n",
      "drwxr-xr-x.   52 root root  1540 Jan 30 18:36 \u001b[01;34mrun\u001b[0m/\r\n",
      "lrwxrwxrwx.    1 root root     8 Jun  3  2019 \u001b[01;36msbin\u001b[0m -> \u001b[01;34musr/sbin\u001b[0m/\r\n",
      "drwxrwxrwt.   17 root root  4096 Jan 18 09:07 \u001b[30;42mscratch\u001b[0m/\r\n",
      "drwxr-xr-x.    2 root root  4096 Dec 14  2017 \u001b[01;34msrv\u001b[0m/\r\n",
      "dr-xr-xr-x.   13 root root     0 Nov  4 15:08 \u001b[01;34msys\u001b[0m/\r\n",
      "drwxrwxrwt.   78 root root 36864 Jan 30 19:22 \u001b[30;42mtmp\u001b[0m/\r\n",
      "drwxr-xr-x.   15 root root  4096 Jun  3  2019 \u001b[01;34musr\u001b[0m/\r\n",
      "drwxr-xr-x.   25 root root  4096 Jun  3  2019 \u001b[01;34mvar\u001b[0m/\r\n"
     ]
    }
   ],
   "source": [
    "ls -l"
   ]
  },
  {
   "cell_type": "markdown",
   "metadata": {},
   "source": [
    "There are many subdirectories under the root directory.  Of special interest are /dls and /dls_sw.  These directory contain Diamond specific files.  Take a look at the contents of /dls first:"
   ]
  },
  {
   "cell_type": "code",
   "execution_count": 36,
   "metadata": {},
   "outputs": [
    {
     "name": "stdout",
     "output_type": "stream",
     "text": [
      "\u001b[0m\u001b[01;34marchive\u001b[0m/     \u001b[01;34mdetectors\u001b[0m/  \u001b[01;34mi05-1\u001b[0m/  \u001b[01;34mi13-1\u001b[0m/  \u001b[01;34mi24\u001b[0m/            \u001b[01;34mmetrix\u001b[0m/       \u001b[01;34mtmp\u001b[0m/\r\n",
      "\u001b[01;34mb01\u001b[0m/         \u001b[01;34me01\u001b[0m/        \u001b[01;34mi06\u001b[0m/    \u001b[01;34mi14\u001b[0m/    \u001b[01;34mk11\u001b[0m/            \u001b[01;34mmpl\u001b[0m/          \u001b[01;34mverne\u001b[0m/\r\n",
      "\u001b[01;34mb07\u001b[0m/         \u001b[01;34me01-1\u001b[0m/      \u001b[01;34mi06-1\u001b[0m/  \u001b[01;34mi14-1\u001b[0m/  \u001b[01;34mlabxchem\u001b[0m/       \u001b[01;34mmx\u001b[0m/           \u001b[01;34mx01\u001b[0m/\r\n",
      "\u001b[01;34mb07-1\u001b[0m/       \u001b[01;34me01-2\u001b[0m/      \u001b[01;34mi07\u001b[0m/    \u001b[01;34mi15\u001b[0m/    \u001b[01;34mm01\u001b[0m/            \u001b[01;34mmx-scratch\u001b[0m/   \u001b[01;34mx01-1\u001b[0m/\r\n",
      "\u001b[01;34mb16\u001b[0m/         \u001b[01;34me02\u001b[0m/        \u001b[01;34mi08\u001b[0m/    \u001b[01;34mi15-1\u001b[0m/  \u001b[01;34mm02\u001b[0m/            \u001b[01;34mops-data\u001b[0m/     \u001b[01;34mx01-2\u001b[0m/\r\n",
      "\u001b[01;34mb18\u001b[0m/         \u001b[01;34me02-1\u001b[0m/      \u001b[01;34mi08-1\u001b[0m/  \u001b[01;34mi16\u001b[0m/    \u001b[01;34mm03\u001b[0m/            \u001b[01;34mops-physics\u001b[0m/  \u001b[01;34mx01-3\u001b[0m/\r\n",
      "\u001b[01;34mb21\u001b[0m/         \u001b[01;34me02-2\u001b[0m/      \u001b[01;34mi09\u001b[0m/    \u001b[01;34mi18\u001b[0m/    \u001b[01;34mm04\u001b[0m/            \u001b[01;34mp29\u001b[0m/          \u001b[01;34mx02-1\u001b[0m/\r\n",
      "\u001b[01;34mb22\u001b[0m/         \u001b[01;34mebic\u001b[0m/       \u001b[01;34mi09-1\u001b[0m/  \u001b[01;34mi19\u001b[0m/    \u001b[01;34mm05\u001b[0m/            \u001b[01;34mp38\u001b[0m/          \u001b[01;34mx03-1\u001b[0m/\r\n",
      "\u001b[01;34mb23\u001b[0m/         \u001b[01;34mi02\u001b[0m/        \u001b[01;34mi09-2\u001b[0m/  \u001b[01;34mi19-1\u001b[0m/  \u001b[01;34mm06\u001b[0m/            \u001b[01;34mp45\u001b[0m/          \u001b[01;34mx03-2\u001b[0m/\r\n",
      "\u001b[01;34mb24\u001b[0m/         \u001b[01;34mi02-1\u001b[0m/      \u001b[01;34mi10\u001b[0m/    \u001b[01;34mi19-2\u001b[0m/  \u001b[01;34mm07\u001b[0m/            \u001b[01;34mp99\u001b[0m/          \u001b[01;34mx04-1\u001b[0m/\r\n",
      "\u001b[01;34mb24-1\u001b[0m/       \u001b[01;34mi02-2\u001b[0m/      \u001b[01;34mi10-1\u001b[0m/  \u001b[01;34mi20\u001b[0m/    \u001b[01;34mm08\u001b[0m/            \u001b[01;34mphysics\u001b[0m/      \u001b[01;34mx05-1\u001b[0m/\r\n",
      "\u001b[01;34mbl-misc\u001b[0m/     \u001b[01;34mi03\u001b[0m/        \u001b[01;34mi11\u001b[0m/    \u001b[01;34mi20-1\u001b[0m/  \u001b[01;34mm10\u001b[0m/            \u001b[01;34mscience\u001b[0m/\r\n",
      "\u001b[01;34mcs-iocs\u001b[0m/     \u001b[01;34mi04\u001b[0m/        \u001b[01;34mi11-1\u001b[0m/  \u001b[01;34mi21\u001b[0m/    \u001b[01;34mm11\u001b[0m/            \u001b[01;34msms\u001b[0m/\r\n",
      "\u001b[01;34mcs-scratch\u001b[0m/  \u001b[01;34mi04-1\u001b[0m/      \u001b[01;34mi12\u001b[0m/    \u001b[01;34mi22\u001b[0m/    \u001b[01;34mm13\u001b[0m/            \u001b[01;34mstaging\u001b[0m/\r\n",
      "\u001b[01;34mcs-www\u001b[0m/      \u001b[01;34mi05\u001b[0m/        \u001b[01;34mi13\u001b[0m/    \u001b[01;34mi23\u001b[0m/    \u001b[01;34mmachineStatus\u001b[0m/  \u001b[01;34mtechnical\u001b[0m/\r\n"
     ]
    }
   ],
   "source": [
    "ls dls"
   ]
  },
  {
   "cell_type": "markdown",
   "metadata": {},
   "source": [
    "This folder contains files for beamlines.\n",
    "Note you can use 'ls' to look at the files in a subdiectory without 'cd'ing to that directory.\n",
    "Probing a bit deeper we can see all the beamline data files:"
   ]
  },
  {
   "cell_type": "code",
   "execution_count": 37,
   "metadata": {},
   "outputs": [
    {
     "name": "stdout",
     "output_type": "stream",
     "text": [
      "total 0\r\n",
      "drwxr-xr-x.  3 root        root        4096 Feb  3  2010 \u001b[0m\u001b[01;34m2009\u001b[0m/\r\n",
      "drwxrwxr-x+ 18 root        root        4096 Mar 12  2019 \u001b[01;34m2011\u001b[0m/\r\n",
      "drwxrwxr-x+  8 kdf51254    kdf51254    4096 Nov  6  2014 \u001b[01;34m2012\u001b[0m/\r\n",
      "drwxrwxr-x+  8 root        root        4096 Aug 29 02:21 \u001b[01;34m2013\u001b[0m/\r\n",
      "drwxrwxr-x+  5 qqs43472    qqs43472    4096 Aug 29 05:16 \u001b[01;34m2014\u001b[0m/\r\n",
      "drwxrwxr-x+  6 root        root        4096 Aug 29 00:38 \u001b[01;34m2015\u001b[0m/\r\n",
      "drwxrwxr-x+  9 facilityacc facilityacc 4096 Feb 19  2019 \u001b[01;34m2016\u001b[0m/\r\n",
      "drwxrwxr-x+ 79 facilityacc facilityacc 4096 Feb 19  2019 \u001b[01;34m2017\u001b[0m/\r\n",
      "drwxrwxr-x+ 56 facilityacc facilityacc 4096 Aug 29 07:37 \u001b[01;34m2018\u001b[0m/\r\n",
      "drwxrwxr-x+ 52 facilityacc facilityacc 4096 Dec 13 00:04 \u001b[01;34m2019\u001b[0m/\r\n",
      "drwxrwxr-x+  8 facilityacc facilityacc 4096 Jan 28 00:04 \u001b[01;34m2020\u001b[0m/\r\n"
     ]
    }
   ],
   "source": [
    "ls -l /dls/i22/data"
   ]
  },
  {
   "cell_type": "markdown",
   "metadata": {},
   "source": [
    "Next we look at /dls_sw:"
   ]
  },
  {
   "cell_type": "code",
   "execution_count": 38,
   "metadata": {},
   "outputs": [
    {
     "name": "stdout",
     "output_type": "stream",
     "text": [
      "total 152\r\n",
      "drwxrwsr-x+ 2 root       dls_dasc  4096 Sep 18  2014 \u001b[0m\u001b[01;34mbin\u001b[0m/\r\n",
      "drwxrwsr-x+ 9 epics_user dcs       4096 Jan  8  2019 \u001b[01;34mepics\u001b[0m/\r\n",
      "drwxrwsr-x+ 5 root       dls_dasc  4096 Oct 21 12:59 \u001b[01;34metc\u001b[0m/\r\n",
      "drwxrwsrwx+ 8 epics_user dls_dasc 98304 Jan 30 16:47 \u001b[34;42mlogs\u001b[0m/\r\n",
      "drwxrwsrwx+ 5 gda2       dls_dasc  4096 Jan  5  2016 \u001b[34;42mscripts\u001b[0m/\r\n",
      "drwxrwsr-x+ 7 gda2       dls_dasc  4096 Jan 28 16:05 \u001b[01;34msoftware\u001b[0m/\r\n",
      "drwxrwsrwx+ 2 root       dls_dasc  4096 Nov 28  2016 \u001b[34;42mvar\u001b[0m/\r\n"
     ]
    }
   ],
   "source": [
    "ls -l /dls_sw/i22"
   ]
  },
  {
   "cell_type": "markdown",
   "metadata": {},
   "source": [
    "This contains software used on the beamline."
   ]
  },
  {
   "cell_type": "markdown",
   "metadata": {},
   "source": [
    "To complete this short tutorial, we will remove the files we created, by running 'cd' and 'rm':"
   ]
  },
  {
   "cell_type": "code",
   "execution_count": 39,
   "metadata": {},
   "outputs": [
    {
     "name": "stdout",
     "output_type": "stream",
     "text": [
      "/home/wns35789\n"
     ]
    }
   ],
   "source": [
    "cd"
   ]
  },
  {
   "cell_type": "code",
   "execution_count": 40,
   "metadata": {},
   "outputs": [],
   "source": [
    "rm -r basic"
   ]
  }
 ],
 "metadata": {
  "kernelspec": {
   "display_name": "Python 3.7",
   "language": "python",
   "name": "python3"
  },
  "language_info": {
   "codemirror_mode": {
    "name": "ipython",
    "version": 3
   },
   "file_extension": ".py",
   "mimetype": "text/x-python",
   "name": "python",
   "nbconvert_exporter": "python",
   "pygments_lexer": "ipython3",
   "version": "3.7.3"
  }
 },
 "nbformat": 4,
 "nbformat_minor": 2
}
